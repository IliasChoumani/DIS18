{
 "cells": [
  {
   "cell_type": "markdown",
   "metadata": {},
   "source": [
    "## Alle Gepris Projekte in einer Liste"
   ]
  },
  {
   "cell_type": "code",
   "execution_count": 13,
   "metadata": {},
   "outputs": [
    {
     "name": "stdout",
     "output_type": "stream",
     "text": [
      "Liste der eindeutigen Projekt-IDs:\n",
      "['442032008', '5413368', '221270173', '71821268', '316102599', '18572122', '183605059', '492813820', '460129525', '433110396', '431352836', '509313233', '516780480', '5131248', '255821879', '198305071', '521476232', '445552570', '418603037', '424650015', '520751609', '505997786', '513892404', '447603908', '224619622', '424795268', '242504939', '40014398', '456668568', '491261247', '453182863', '270041755', '218318381', '5310710', '441914366', '325443116', '284237345', '5365365', '453229399', '319835486', '418004173', '314772579', '230488449', '24122740', '418598556', '290363600', '458957343', '5095944', '507302435', '326552732']\n"
     ]
    }
   ],
   "source": [
    "import json\n",
    "import os\n",
    "\n",
    "# Pfad zur JSON-Datei (relativ zum aktuellen Verzeichnis)\n",
    "json_file_path = \"output_all_persons_names_projects_links.json\"\n",
    "\n",
    "# Menge zur Speicherung der eindeutigen Projekt-IDs\n",
    "project_ids_set = set()\n",
    "\n",
    "# Vollständigen Pfad zur JSON-Datei erstellen\n",
    "full_json_file_path = os.path.join(os.getcwd(), json_file_path)\n",
    "\n",
    "# JSON-Datei einlesen und Daten laden\n",
    "with open(full_json_file_path, 'r', encoding='utf-8') as json_file:\n",
    "    data = json.load(json_file)\n",
    "\n",
    "# Durchlaufe jeden Eintrag in der Liste\n",
    "for entry in data:\n",
    "    # Extrahiere die Projekte aus dem Eintrag\n",
    "    projects = entry.get('Projekte', [])\n",
    "    \n",
    "    # Durchlaufe die Projekte und extrahiere die Projekt-IDs\n",
    "    for project in projects:\n",
    "        project_link = project.get('Projekt Link', '')\n",
    "        \n",
    "        # Extrahiere die Projekt-ID aus dem Projekt-Link\n",
    "        if project_link:\n",
    "            project_id = project_link.split('/')[-1]\n",
    "            # Füge die Projekt-ID zur Menge hinzu (automatisch wird nur eindeutige IDs behalten)\n",
    "            project_ids_set.add(project_id)\n",
    "\n",
    "# Konvertiere die Menge von Projekt-IDs in eine Liste (falls erforderlich)\n",
    "project_ids_list = list(project_ids_set)\n",
    "\n",
    "# Ausgabe der gesammelten eindeutigen Projekt-IDs\n",
    "print(\"Liste der eindeutigen Projekt-IDs:\")\n",
    "print(project_ids_list)"
   ]
  },
  {
   "cell_type": "markdown",
   "metadata": {},
   "source": [
    "## Projekte welche bereits Wikidata einträge haben"
   ]
  },
  {
   "cell_type": "code",
   "execution_count": 37,
   "metadata": {},
   "outputs": [
    {
     "name": "stdout",
     "output_type": "stream",
     "text": [
      "Q-ID for 5413368: Q98380341\n",
      "List of QIDs:\n",
      "['Q98380341']\n",
      "List of QIDs:\n",
      "[]\n",
      "List of QIDs:\n",
      "[]\n",
      "Q-ID for 5413368: Q116128332\n",
      "List of QIDs:\n",
      "['Q116128332']\n",
      "List of QIDs:\n",
      "[]\n",
      "Q-ID for 5413368: Q116114558\n",
      "List of QIDs:\n",
      "['Q116114558']\n",
      "List of QIDs:\n",
      "[]\n",
      "List of QIDs:\n",
      "[]\n",
      "Q-ID for 5413368: Q99534506\n",
      "List of QIDs:\n",
      "['Q99534506']\n",
      "List of QIDs:\n",
      "[]\n",
      "List of QIDs:\n",
      "[]\n",
      "List of QIDs:\n",
      "[]\n",
      "List of QIDs:\n",
      "[]\n",
      "Q-ID for 5413368: Q116063769\n",
      "List of QIDs:\n",
      "['Q116063769']\n",
      "List of QIDs:\n",
      "[]\n",
      "List of QIDs:\n",
      "[]\n",
      "List of QIDs:\n",
      "[]\n",
      "List of QIDs:\n",
      "[]\n",
      "List of QIDs:\n",
      "[]\n",
      "List of QIDs:\n",
      "[]\n",
      "List of QIDs:\n",
      "[]\n",
      "List of QIDs:\n",
      "[]\n",
      "List of QIDs:\n",
      "[]\n",
      "List of QIDs:\n",
      "[]\n",
      "List of QIDs:\n",
      "[]\n",
      "List of QIDs:\n",
      "[]\n",
      "List of QIDs:\n",
      "[]\n",
      "Q-ID for 5413368: Q116121999\n",
      "List of QIDs:\n",
      "['Q116121999']\n",
      "List of QIDs:\n",
      "[]\n",
      "List of QIDs:\n",
      "[]\n",
      "List of QIDs:\n",
      "[]\n",
      "List of QIDs:\n",
      "[]\n",
      "List of QIDs:\n",
      "[]\n",
      "List of QIDs:\n",
      "[]\n",
      "Q-ID for 5413368: Q98380337\n",
      "List of QIDs:\n",
      "['Q98380337']\n",
      "List of QIDs:\n",
      "[]\n",
      "List of QIDs:\n",
      "[]\n",
      "Q-ID for 5413368: Q116092079\n",
      "List of QIDs:\n",
      "['Q116092079']\n",
      "List of QIDs:\n",
      "[]\n",
      "List of QIDs:\n",
      "[]\n",
      "List of QIDs:\n",
      "[]\n",
      "List of QIDs:\n",
      "[]\n",
      "List of QIDs:\n",
      "[]\n",
      "List of QIDs:\n",
      "[]\n",
      "List of QIDs:\n",
      "[]\n",
      "List of QIDs:\n",
      "[]\n",
      "List of QIDs:\n",
      "[]\n",
      "Q-ID for 5413368: Q116062070\n",
      "List of QIDs:\n",
      "['Q116062070']\n",
      "List of QIDs:\n",
      "[]\n",
      "List of QIDs:\n",
      "[]\n"
     ]
    }
   ],
   "source": [
    "import requests\n",
    "\n",
    "for project in project_ids_list:\n",
    "    api_url = f\"https://www.wikidata.org/w/api.php?action=query&format=json&list=search&srsearch=P4870+{project}\"\n",
    "\n",
    "    response = requests.get(api_url)\n",
    "    data = response.json()\n",
    "\n",
    "    qids_list = []  # Liste zur Speicherung der QIDs\n",
    "\n",
    "    if \"query\" in data and \"search\" in data[\"query\"]:\n",
    "        for result in data[\"query\"][\"search\"]:\n",
    "            q_id = result[\"title\"]\n",
    "            qids_list.append(q_id)  # Füge die QID zur Liste hinzu\n",
    "            print(f\"Q-ID for {search_term}: {q_id}\")\n",
    "\n",
    "    # Ausgabe der Liste mit QIDs\n",
    "    print(\"List of QIDs:\")\n",
    "    print(qids_list)"
   ]
  },
  {
   "cell_type": "markdown",
   "metadata": {},
   "source": [
    "## diese in einer Liste/dict speichern mit QID und Namen"
   ]
  },
  {
   "cell_type": "code",
   "execution_count": 40,
   "metadata": {},
   "outputs": [
    {
     "name": "stdout",
     "output_type": "stream",
     "text": [
      "Gefundene Einträge:\n",
      "Projekt-ID: 442032008, Q-ID: Q98380341, Label: \n",
      "Projekt-ID: 71821268, Q-ID: Q116128332, Label: \n",
      "Projekt-ID: 18572122, Q-ID: Q116114558, Label: \n",
      "Projekt-ID: 460129525, Q-ID: Q99534506, Label: \n",
      "Projekt-ID: 5131248, Q-ID: Q116063769, Label: \n",
      "Projekt-ID: 40014398, Q-ID: Q116121999, Label: \n",
      "Projekt-ID: 441914366, Q-ID: Q98380337, Label: \n",
      "Projekt-ID: 5365365, Q-ID: Q116092079, Label: \n",
      "Projekt-ID: 5095944, Q-ID: Q116062070, Label: \n",
      "[{'project_id': '442032008', 'q_id': 'Q98380341', 'label': ''}, {'project_id': '71821268', 'q_id': 'Q116128332', 'label': ''}, {'project_id': '18572122', 'q_id': 'Q116114558', 'label': ''}, {'project_id': '460129525', 'q_id': 'Q99534506', 'label': ''}, {'project_id': '5131248', 'q_id': 'Q116063769', 'label': ''}, {'project_id': '40014398', 'q_id': 'Q116121999', 'label': ''}, {'project_id': '441914366', 'q_id': 'Q98380337', 'label': ''}, {'project_id': '5365365', 'q_id': 'Q116092079', 'label': ''}, {'project_id': '5095944', 'q_id': 'Q116062070', 'label': ''}]\n"
     ]
    }
   ],
   "source": [
    "# Liste zur Speicherung der gefundenen Einträge\n",
    "found_entries = []\n",
    "\n",
    "for project in project_ids_list:\n",
    "    api_url = f\"https://www.wikidata.org/w/api.php?action=query&format=json&list=search&srsearch=P4870+{project}\"\n",
    "\n",
    "    response = requests.get(api_url)\n",
    "    data = response.json()\n",
    "\n",
    "    if \"query\" in data and \"search\" in data[\"query\"]:\n",
    "        for result in data[\"query\"][\"search\"]:\n",
    "            q_id = result[\"title\"]\n",
    "            label = result.get(\"label\", \"\")  # Das Label des Suchergebnisses\n",
    "\n",
    "            # Füge das gefundene Ergebnis der Liste hinzu\n",
    "            found_entries.append({\n",
    "                \"project_id\": project,\n",
    "                \"q_id\": q_id,\n",
    "                \"label\": label\n",
    "            })\n",
    "\n",
    "# Ausgabe der gefundenen Einträge\n",
    "print(\"Gefundene Einträge:\")\n",
    "for entry in found_entries:\n",
    "    print(f\"Projekt-ID: {entry['project_id']}, Q-ID: {entry['q_id']}, Label: {entry['label']}\")\n",
    "\n",
    "print(found_entries)"
   ]
  },
  {
   "cell_type": "code",
   "execution_count": 44,
   "metadata": {},
   "outputs": [
    {
     "name": "stdout",
     "output_type": "stream",
     "text": [
      "Gefundene Einträge:\n",
      "Projekt-ID: 442032008, Q-ID: Q98380341, Label: NFDI4Biodiversity\n",
      "Projekt-ID: 71821268, Q-ID: Q116128332, Label: \n",
      "Projekt-ID: 18572122, Q-ID: Q116114558, Label: \n",
      "Projekt-ID: 460129525, Q-ID: Q99534506, Label: NFDI4Microbiota\n",
      "Projekt-ID: 5131248, Q-ID: Q116063769, Label: \n",
      "Projekt-ID: 40014398, Q-ID: Q116121999, Label: \n",
      "Projekt-ID: 441914366, Q-ID: Q98380337, Label: GHGA\n",
      "Projekt-ID: 5365365, Q-ID: Q116092079, Label: \n",
      "Projekt-ID: 5095944, Q-ID: Q116062070, Label: \n",
      "[{'project_id': '442032008', 'q_id': 'Q98380341', 'label': 'NFDI4Biodiversity'}, {'project_id': '71821268', 'q_id': 'Q116128332', 'label': ''}, {'project_id': '18572122', 'q_id': 'Q116114558', 'label': ''}, {'project_id': '460129525', 'q_id': 'Q99534506', 'label': 'NFDI4Microbiota'}, {'project_id': '5131248', 'q_id': 'Q116063769', 'label': ''}, {'project_id': '40014398', 'q_id': 'Q116121999', 'label': ''}, {'project_id': '441914366', 'q_id': 'Q98380337', 'label': 'GHGA'}, {'project_id': '5365365', 'q_id': 'Q116092079', 'label': ''}, {'project_id': '5095944', 'q_id': 'Q116062070', 'label': ''}]\n"
     ]
    }
   ],
   "source": [
    "found_entries = []\n",
    "\n",
    "for project in project_ids_list:\n",
    "    api_url = f\"https://www.wikidata.org/w/api.php?action=query&format=json&list=search&srsearch=P4870+{project}\"\n",
    "\n",
    "    response = requests.get(api_url)\n",
    "    data = response.json()\n",
    "\n",
    "    if \"query\" in data and \"search\" in data[\"query\"]:\n",
    "        for result in data[\"query\"][\"search\"]:\n",
    "            q_id = result[\"title\"]\n",
    "\n",
    "            # Weitere Abfrage, um das Label des Wikidata-Eintrags abzurufen\n",
    "            entity_url = f\"https://www.wikidata.org/wiki/Special:EntityData/{q_id}.json\"\n",
    "            entity_response = requests.get(entity_url)\n",
    "            entity_data = entity_response.json()\n",
    "\n",
    "            if \"entities\" in entity_data and q_id in entity_data[\"entities\"]:\n",
    "                entity_info = entity_data[\"entities\"][q_id]\n",
    "                label = entity_info.get('labels', {}).get('en', {}).get('value', '')  # Das Label des Eintrags\n",
    "\n",
    "                # Füge das gefundene Ergebnis der Liste hinzu\n",
    "                found_entries.append({\n",
    "                    \"project_id\": project,\n",
    "                    \"q_id\": q_id,\n",
    "                    \"label\": label\n",
    "                })\n",
    "\n",
    "# Ausgabe der gefundenen Einträge\n",
    "print(\"Gefundene Einträge:\")\n",
    "for entry in found_entries:\n",
    "    print(f\"Projekt-ID: {entry['project_id']}, Q-ID: {entry['q_id']}, Label: {entry['label']}\")\n",
    "print(found_entries)"
   ]
  },
  {
   "cell_type": "markdown",
   "metadata": {},
   "source": [
    "## Alle artikel ohne eintrag in einer Liste Speichern"
   ]
  },
  {
   "cell_type": "code",
   "execution_count": 52,
   "metadata": {},
   "outputs": [
    {
     "name": "stdout",
     "output_type": "stream",
     "text": [
      "Gefilterte Projekt-IDs:\n",
      "['5413368', '221270173', '316102599', '183605059', '492813820', '433110396', '431352836', '509313233', '516780480', '255821879', '198305071', '521476232', '445552570', '418603037', '424650015', '520751609', '505997786', '513892404', '447603908', '224619622', '424795268', '242504939', '456668568', '491261247', '453182863', '270041755', '218318381', '5310710', '325443116', '284237345', '453229399', '319835486', '418004173', '314772579', '230488449', '24122740', '418598556', '290363600', '458957343', '507302435', '326552732']\n"
     ]
    }
   ],
   "source": [
    "# Extrahiere die Projekt-IDs aus den gefundenen Einträgen\n",
    "found_project_ids = {entry['project_id'] for entry in found_entries}\n",
    "\n",
    "# Erstelle eine neue Liste, die nur die Projekt-IDs enthält, die nicht in den gefundenen Einträgen sind\n",
    "non_existing_entries = [project_id for project_id in project_ids_list if project_id not in found_project_ids]\n",
    "\n",
    "# Ausgabe der gefilterten Liste\n",
    "print(\"Gefilterte Projekt-IDs:\")\n",
    "print(non_existing_entries)\n"
   ]
  },
  {
   "cell_type": "code",
   "execution_count": null,
   "metadata": {},
   "outputs": [],
   "source": []
  }
 ],
 "metadata": {
  "kernelspec": {
   "display_name": "Python 3",
   "language": "python",
   "name": "python3"
  },
  "language_info": {
   "codemirror_mode": {
    "name": "ipython",
    "version": 3
   },
   "file_extension": ".py",
   "mimetype": "text/x-python",
   "name": "python",
   "nbconvert_exporter": "python",
   "pygments_lexer": "ipython3",
   "version": "3.8.5"
  }
 },
 "nbformat": 4,
 "nbformat_minor": 4
}
