{
 "cells": [
  {
   "cell_type": "markdown",
   "metadata": {},
   "source": [
    "Wir haben das Problem, dass wenn man in Wikidata nach den Autorennamen sucht, man mehrere Einträge mit unterschiedlichen QIDs erhält. Wir möchten den eintrag des Autors finden und diesem die GEPRIS Projekte hinzufügen. Wenn man beispielsweise nach dem Namen Konrad Förstner sucht sind die ersten beiden Einträge: Konrad Förstner, QID: Q18744528 und Förstner Research Group, QID: Q123265818. Der erste Eintrag ist unsere gesuchte Person, während der zweite eintrag keine Person darstellt.   \n",
    "  Daher möchten wir eine Automatisierte abfrage gestallten, welche uns Informationen zu den jeweiligen Entitäten gibt, sodass wir die richte auswählen können um dieser dann die Projekte hinzuzufügen."
   ]
  },
  {
   "cell_type": "markdown",
   "metadata": {},
   "source": [
    "## ein Beispiel alle QIDs des Suchbegriffs \"Konrad Förstner\" ermitteln"
   ]
  },
  {
   "cell_type": "code",
   "execution_count": 2,
   "metadata": {},
   "outputs": [],
   "source": [
    "import requests"
   ]
  },
  {
   "cell_type": "code",
   "execution_count": 3,
   "metadata": {},
   "outputs": [
    {
     "name": "stdout",
     "output_type": "stream",
     "text": [
      "Q-ID for Konrad Förstner: Q18744528\n",
      "Q-ID for Konrad Förstner: Q123265818\n",
      "Q-ID for Konrad Förstner: Q112148361\n",
      "Q-ID for Konrad Förstner: Q110684366\n",
      "Q-ID for Konrad Förstner: Q125548119\n",
      "Q-ID for Konrad Förstner: Q93222062\n",
      "Q-ID for Konrad Förstner: Q114381682\n",
      "Q-ID for Konrad Förstner: Q24490214\n",
      "Q-ID for Konrad Förstner: Q22951230\n",
      "Q-ID for Konrad Förstner: Q110962107\n",
      "List of QIDs:\n",
      "['Q18744528', 'Q123265818', 'Q112148361', 'Q110684366', 'Q125548119', 'Q93222062', 'Q114381682', 'Q24490214', 'Q22951230', 'Q110962107']\n"
     ]
    }
   ],
   "source": [
    "search_term = \"Konrad Förstner\"\n",
    "api_url = f\"https://www.wikidata.org/w/api.php?action=query&format=json&list=search&srsearch={search_term}\"\n",
    "\n",
    "response = requests.get(api_url)\n",
    "data = response.json()\n",
    "\n",
    "qids_list = []  # Liste zur Speicherung der QIDs\n",
    "\n",
    "if \"query\" in data and \"search\" in data[\"query\"]:\n",
    "    for result in data[\"query\"][\"search\"]:\n",
    "        q_id = result[\"title\"]\n",
    "        qids_list.append(q_id)  # Füge die QID zur Liste hinzu\n",
    "        print(f\"Q-ID for {search_term}: {q_id}\")\n",
    "\n",
    "# Ausgabe der Liste mit QIDs\n",
    "print(\"List of QIDs:\")\n",
    "print(qids_list)"
   ]
  },
  {
   "cell_type": "markdown",
   "metadata": {},
   "source": [
    "## Ermitteln ob der jeweilige Eintrag einen Menschen Repräsentiert"
   ]
  },
  {
   "cell_type": "code",
   "execution_count": 4,
   "metadata": {},
   "outputs": [
    {
     "name": "stdout",
     "output_type": "stream",
     "text": [
      "Der Wikidata-Eintrag Q18744528 repräsentiert einen Menschen.\n",
      "Der Wikidata-Eintrag Q123265818 repräsentiert keine Person (Mensch).\n",
      "Der Wikidata-Eintrag Q112148361 repräsentiert keine Person (Mensch).\n",
      "Der Wikidata-Eintrag Q110684366 repräsentiert keine Person (Mensch).\n",
      "Der Wikidata-Eintrag Q125548119 repräsentiert keine Person (Mensch).\n",
      "Der Wikidata-Eintrag Q93222062 repräsentiert keine Person (Mensch).\n",
      "Der Wikidata-Eintrag Q114381682 repräsentiert keine Person (Mensch).\n",
      "Der Wikidata-Eintrag Q24490214 repräsentiert keine Person (Mensch).\n",
      "Der Wikidata-Eintrag Q22951230 repräsentiert keine Person (Mensch).\n",
      "Der Wikidata-Eintrag Q110962107 repräsentiert keine Person (Mensch).\n"
     ]
    }
   ],
   "source": [
    "for qid_to_check in qids_list:\n",
    "    api_url = f\"https://www.wikidata.org/wiki/Special:EntityData/{qid_to_check}.json\"\n",
    "\n",
    "    try:\n",
    "        # HTTP-Anfrage, um die JSON-Daten des Wikidata-Eintrags abzurufen\n",
    "        response = requests.get(api_url)\n",
    "        if response.status_code == 200:\n",
    "            entity_data = response.json()\n",
    "\n",
    "            # Überprüfe, ob der Eintrag eine Instanz der Klasse \"Mensch\" (Q5) ist\n",
    "            if \"entities\" in entity_data and qid_to_check in entity_data[\"entities\"]:\n",
    "                instance_of_claims = entity_data[\"entities\"][qid_to_check][\"claims\"].get(\"P31\", [])\n",
    "                is_human = any(claim[\"mainsnak\"][\"datavalue\"][\"value\"][\"id\"] == \"Q5\" for claim in instance_of_claims)\n",
    "                \n",
    "                if is_human:\n",
    "                    print(f\"Der Wikidata-Eintrag {qid_to_check} repräsentiert einen Menschen.\")\n",
    "                else:\n",
    "                    print(f\"Der Wikidata-Eintrag {qid_to_check} repräsentiert keine Person (Mensch).\")\n",
    "            else:\n",
    "                print(f\"Der Wikidata-Eintrag {qid_to_check} wurde nicht gefunden oder enthält keine Daten.\")\n",
    "\n",
    "        else:\n",
    "            print(f\"Fehler bei der HTTP-Anfrage für {qid_to_check}: Statuscode {response.status_code}\")\n",
    "\n",
    "    except requests.exceptions.RequestException as e:\n",
    "        print(f\"Fehler bei der HTTP-Anfrage für {qid_to_check}: {e}\")\n",
    "    except KeyError as e:\n",
    "        print(f\"Unerwarteter JSON-Formatfehler für {qid_to_check}: {e}\")\n",
    "    except Exception as e:\n",
    "        print(f\"Allgemeiner Fehler für {qid_to_check}: {e}\")"
   ]
  },
  {
   "cell_type": "markdown",
   "metadata": {},
   "source": [
    "## Beispiel mit suchbegriff \"Anke Becker\""
   ]
  },
  {
   "cell_type": "code",
   "execution_count": 5,
   "metadata": {},
   "outputs": [
    {
     "name": "stdout",
     "output_type": "stream",
     "text": [
      "Q-ID for Anke Becker: Q21253882\n",
      "Q-ID for Anke Becker: Q124022504\n",
      "Q-ID for Anke Becker: Q124413921\n",
      "Q-ID for Anke Becker: Q123857269\n",
      "Q-ID for Anke Becker: Q98704635\n",
      "Q-ID for Anke Becker: Q59319573\n",
      "Q-ID for Anke Becker: Q62724364\n",
      "Q-ID for Anke Becker: Q21093388\n",
      "Q-ID for Anke Becker: Q64448970\n",
      "Q-ID for Anke Becker: Q58589847\n",
      "List of QIDs:\n",
      "['Q21253882', 'Q124022504', 'Q124413921', 'Q123857269', 'Q98704635', 'Q59319573', 'Q62724364', 'Q21093388', 'Q64448970', 'Q58589847']\n"
     ]
    }
   ],
   "source": [
    "search_term = \"Anke Becker\"\n",
    "api_url = f\"https://www.wikidata.org/w/api.php?action=query&format=json&list=search&srsearch={search_term}\"\n",
    "\n",
    "response = requests.get(api_url)\n",
    "data = response.json()\n",
    "\n",
    "qids_list = []  # Liste zur Speicherung der QIDs\n",
    "\n",
    "if \"query\" in data and \"search\" in data[\"query\"]:\n",
    "    for result in data[\"query\"][\"search\"]:\n",
    "        q_id = result[\"title\"]\n",
    "        qids_list.append(q_id)  # Füge die QID zur Liste hinzu\n",
    "        print(f\"Q-ID for {search_term}: {q_id}\")\n",
    "\n",
    "# Ausgabe der Liste mit QIDs\n",
    "print(\"List of QIDs:\")\n",
    "print(qids_list)"
   ]
  },
  {
   "cell_type": "code",
   "execution_count": 6,
   "metadata": {},
   "outputs": [
    {
     "name": "stdout",
     "output_type": "stream",
     "text": [
      "Der Wikidata-Eintrag Q21253882 repräsentiert einen Menschen.\n"
     ]
    },
    {
     "ename": "KeyboardInterrupt",
     "evalue": "",
     "output_type": "error",
     "traceback": [
      "\u001b[1;31m---------------------------------------------------------------------------\u001b[0m",
      "\u001b[1;31mKeyboardInterrupt\u001b[0m                         Traceback (most recent call last)",
      "Cell \u001b[1;32mIn[6], line 6\u001b[0m\n\u001b[0;32m      2\u001b[0m api_url \u001b[38;5;241m=\u001b[39m \u001b[38;5;124mf\u001b[39m\u001b[38;5;124m\"\u001b[39m\u001b[38;5;124mhttps://www.wikidata.org/wiki/Special:EntityData/\u001b[39m\u001b[38;5;132;01m{\u001b[39;00mqid_to_check\u001b[38;5;132;01m}\u001b[39;00m\u001b[38;5;124m.json\u001b[39m\u001b[38;5;124m\"\u001b[39m\n\u001b[0;32m      4\u001b[0m \u001b[38;5;28;01mtry\u001b[39;00m:\n\u001b[0;32m      5\u001b[0m     \u001b[38;5;66;03m# HTTP-Anfrage, um die JSON-Daten des Wikidata-Eintrags abzurufen\u001b[39;00m\n\u001b[1;32m----> 6\u001b[0m     response \u001b[38;5;241m=\u001b[39m requests\u001b[38;5;241m.\u001b[39mget(api_url)\n\u001b[0;32m      7\u001b[0m     \u001b[38;5;28;01mif\u001b[39;00m response\u001b[38;5;241m.\u001b[39mstatus_code \u001b[38;5;241m==\u001b[39m \u001b[38;5;241m200\u001b[39m:\n\u001b[0;32m      8\u001b[0m         entity_data \u001b[38;5;241m=\u001b[39m response\u001b[38;5;241m.\u001b[39mjson()\n",
      "File \u001b[1;32mc:\\Users\\lenna\\anaconda3\\Lib\\site-packages\\requests\\api.py:73\u001b[0m, in \u001b[0;36mget\u001b[1;34m(url, params, **kwargs)\u001b[0m\n\u001b[0;32m     62\u001b[0m \u001b[38;5;28;01mdef\u001b[39;00m \u001b[38;5;21mget\u001b[39m(url, params\u001b[38;5;241m=\u001b[39m\u001b[38;5;28;01mNone\u001b[39;00m, \u001b[38;5;241m*\u001b[39m\u001b[38;5;241m*\u001b[39mkwargs):\n\u001b[0;32m     63\u001b[0m \u001b[38;5;250m    \u001b[39m\u001b[38;5;124mr\u001b[39m\u001b[38;5;124;03m\"\"\"Sends a GET request.\u001b[39;00m\n\u001b[0;32m     64\u001b[0m \n\u001b[0;32m     65\u001b[0m \u001b[38;5;124;03m    :param url: URL for the new :class:`Request` object.\u001b[39;00m\n\u001b[1;32m   (...)\u001b[0m\n\u001b[0;32m     70\u001b[0m \u001b[38;5;124;03m    :rtype: requests.Response\u001b[39;00m\n\u001b[0;32m     71\u001b[0m \u001b[38;5;124;03m    \"\"\"\u001b[39;00m\n\u001b[1;32m---> 73\u001b[0m     \u001b[38;5;28;01mreturn\u001b[39;00m request(\u001b[38;5;124m\"\u001b[39m\u001b[38;5;124mget\u001b[39m\u001b[38;5;124m\"\u001b[39m, url, params\u001b[38;5;241m=\u001b[39mparams, \u001b[38;5;241m*\u001b[39m\u001b[38;5;241m*\u001b[39mkwargs)\n",
      "File \u001b[1;32mc:\\Users\\lenna\\anaconda3\\Lib\\site-packages\\requests\\api.py:59\u001b[0m, in \u001b[0;36mrequest\u001b[1;34m(method, url, **kwargs)\u001b[0m\n\u001b[0;32m     55\u001b[0m \u001b[38;5;66;03m# By using the 'with' statement we are sure the session is closed, thus we\u001b[39;00m\n\u001b[0;32m     56\u001b[0m \u001b[38;5;66;03m# avoid leaving sockets open which can trigger a ResourceWarning in some\u001b[39;00m\n\u001b[0;32m     57\u001b[0m \u001b[38;5;66;03m# cases, and look like a memory leak in others.\u001b[39;00m\n\u001b[0;32m     58\u001b[0m \u001b[38;5;28;01mwith\u001b[39;00m sessions\u001b[38;5;241m.\u001b[39mSession() \u001b[38;5;28;01mas\u001b[39;00m session:\n\u001b[1;32m---> 59\u001b[0m     \u001b[38;5;28;01mreturn\u001b[39;00m session\u001b[38;5;241m.\u001b[39mrequest(method\u001b[38;5;241m=\u001b[39mmethod, url\u001b[38;5;241m=\u001b[39murl, \u001b[38;5;241m*\u001b[39m\u001b[38;5;241m*\u001b[39mkwargs)\n",
      "File \u001b[1;32mc:\\Users\\lenna\\anaconda3\\Lib\\site-packages\\requests\\sessions.py:589\u001b[0m, in \u001b[0;36mSession.request\u001b[1;34m(self, method, url, params, data, headers, cookies, files, auth, timeout, allow_redirects, proxies, hooks, stream, verify, cert, json)\u001b[0m\n\u001b[0;32m    584\u001b[0m send_kwargs \u001b[38;5;241m=\u001b[39m {\n\u001b[0;32m    585\u001b[0m     \u001b[38;5;124m\"\u001b[39m\u001b[38;5;124mtimeout\u001b[39m\u001b[38;5;124m\"\u001b[39m: timeout,\n\u001b[0;32m    586\u001b[0m     \u001b[38;5;124m\"\u001b[39m\u001b[38;5;124mallow_redirects\u001b[39m\u001b[38;5;124m\"\u001b[39m: allow_redirects,\n\u001b[0;32m    587\u001b[0m }\n\u001b[0;32m    588\u001b[0m send_kwargs\u001b[38;5;241m.\u001b[39mupdate(settings)\n\u001b[1;32m--> 589\u001b[0m resp \u001b[38;5;241m=\u001b[39m \u001b[38;5;28mself\u001b[39m\u001b[38;5;241m.\u001b[39msend(prep, \u001b[38;5;241m*\u001b[39m\u001b[38;5;241m*\u001b[39msend_kwargs)\n\u001b[0;32m    591\u001b[0m \u001b[38;5;28;01mreturn\u001b[39;00m resp\n",
      "File \u001b[1;32mc:\\Users\\lenna\\anaconda3\\Lib\\site-packages\\requests\\sessions.py:703\u001b[0m, in \u001b[0;36mSession.send\u001b[1;34m(self, request, **kwargs)\u001b[0m\n\u001b[0;32m    700\u001b[0m start \u001b[38;5;241m=\u001b[39m preferred_clock()\n\u001b[0;32m    702\u001b[0m \u001b[38;5;66;03m# Send the request\u001b[39;00m\n\u001b[1;32m--> 703\u001b[0m r \u001b[38;5;241m=\u001b[39m adapter\u001b[38;5;241m.\u001b[39msend(request, \u001b[38;5;241m*\u001b[39m\u001b[38;5;241m*\u001b[39mkwargs)\n\u001b[0;32m    705\u001b[0m \u001b[38;5;66;03m# Total elapsed time of the request (approximately)\u001b[39;00m\n\u001b[0;32m    706\u001b[0m elapsed \u001b[38;5;241m=\u001b[39m preferred_clock() \u001b[38;5;241m-\u001b[39m start\n",
      "File \u001b[1;32mc:\\Users\\lenna\\anaconda3\\Lib\\site-packages\\requests\\adapters.py:486\u001b[0m, in \u001b[0;36mHTTPAdapter.send\u001b[1;34m(self, request, stream, timeout, verify, cert, proxies)\u001b[0m\n\u001b[0;32m    483\u001b[0m     timeout \u001b[38;5;241m=\u001b[39m TimeoutSauce(connect\u001b[38;5;241m=\u001b[39mtimeout, read\u001b[38;5;241m=\u001b[39mtimeout)\n\u001b[0;32m    485\u001b[0m \u001b[38;5;28;01mtry\u001b[39;00m:\n\u001b[1;32m--> 486\u001b[0m     resp \u001b[38;5;241m=\u001b[39m conn\u001b[38;5;241m.\u001b[39murlopen(\n\u001b[0;32m    487\u001b[0m         method\u001b[38;5;241m=\u001b[39mrequest\u001b[38;5;241m.\u001b[39mmethod,\n\u001b[0;32m    488\u001b[0m         url\u001b[38;5;241m=\u001b[39murl,\n\u001b[0;32m    489\u001b[0m         body\u001b[38;5;241m=\u001b[39mrequest\u001b[38;5;241m.\u001b[39mbody,\n\u001b[0;32m    490\u001b[0m         headers\u001b[38;5;241m=\u001b[39mrequest\u001b[38;5;241m.\u001b[39mheaders,\n\u001b[0;32m    491\u001b[0m         redirect\u001b[38;5;241m=\u001b[39m\u001b[38;5;28;01mFalse\u001b[39;00m,\n\u001b[0;32m    492\u001b[0m         assert_same_host\u001b[38;5;241m=\u001b[39m\u001b[38;5;28;01mFalse\u001b[39;00m,\n\u001b[0;32m    493\u001b[0m         preload_content\u001b[38;5;241m=\u001b[39m\u001b[38;5;28;01mFalse\u001b[39;00m,\n\u001b[0;32m    494\u001b[0m         decode_content\u001b[38;5;241m=\u001b[39m\u001b[38;5;28;01mFalse\u001b[39;00m,\n\u001b[0;32m    495\u001b[0m         retries\u001b[38;5;241m=\u001b[39m\u001b[38;5;28mself\u001b[39m\u001b[38;5;241m.\u001b[39mmax_retries,\n\u001b[0;32m    496\u001b[0m         timeout\u001b[38;5;241m=\u001b[39mtimeout,\n\u001b[0;32m    497\u001b[0m         chunked\u001b[38;5;241m=\u001b[39mchunked,\n\u001b[0;32m    498\u001b[0m     )\n\u001b[0;32m    500\u001b[0m \u001b[38;5;28;01mexcept\u001b[39;00m (ProtocolError, \u001b[38;5;167;01mOSError\u001b[39;00m) \u001b[38;5;28;01mas\u001b[39;00m err:\n\u001b[0;32m    501\u001b[0m     \u001b[38;5;28;01mraise\u001b[39;00m \u001b[38;5;167;01mConnectionError\u001b[39;00m(err, request\u001b[38;5;241m=\u001b[39mrequest)\n",
      "File \u001b[1;32mc:\\Users\\lenna\\anaconda3\\Lib\\site-packages\\urllib3\\connectionpool.py:715\u001b[0m, in \u001b[0;36mHTTPConnectionPool.urlopen\u001b[1;34m(self, method, url, body, headers, retries, redirect, assert_same_host, timeout, pool_timeout, release_conn, chunked, body_pos, **response_kw)\u001b[0m\n\u001b[0;32m    712\u001b[0m     \u001b[38;5;28mself\u001b[39m\u001b[38;5;241m.\u001b[39m_prepare_proxy(conn)\n\u001b[0;32m    714\u001b[0m \u001b[38;5;66;03m# Make the request on the httplib connection object.\u001b[39;00m\n\u001b[1;32m--> 715\u001b[0m httplib_response \u001b[38;5;241m=\u001b[39m \u001b[38;5;28mself\u001b[39m\u001b[38;5;241m.\u001b[39m_make_request(\n\u001b[0;32m    716\u001b[0m     conn,\n\u001b[0;32m    717\u001b[0m     method,\n\u001b[0;32m    718\u001b[0m     url,\n\u001b[0;32m    719\u001b[0m     timeout\u001b[38;5;241m=\u001b[39mtimeout_obj,\n\u001b[0;32m    720\u001b[0m     body\u001b[38;5;241m=\u001b[39mbody,\n\u001b[0;32m    721\u001b[0m     headers\u001b[38;5;241m=\u001b[39mheaders,\n\u001b[0;32m    722\u001b[0m     chunked\u001b[38;5;241m=\u001b[39mchunked,\n\u001b[0;32m    723\u001b[0m )\n\u001b[0;32m    725\u001b[0m \u001b[38;5;66;03m# If we're going to release the connection in ``finally:``, then\u001b[39;00m\n\u001b[0;32m    726\u001b[0m \u001b[38;5;66;03m# the response doesn't need to know about the connection. Otherwise\u001b[39;00m\n\u001b[0;32m    727\u001b[0m \u001b[38;5;66;03m# it will also try to release it and we'll have a double-release\u001b[39;00m\n\u001b[0;32m    728\u001b[0m \u001b[38;5;66;03m# mess.\u001b[39;00m\n\u001b[0;32m    729\u001b[0m response_conn \u001b[38;5;241m=\u001b[39m conn \u001b[38;5;28;01mif\u001b[39;00m \u001b[38;5;129;01mnot\u001b[39;00m release_conn \u001b[38;5;28;01melse\u001b[39;00m \u001b[38;5;28;01mNone\u001b[39;00m\n",
      "File \u001b[1;32mc:\\Users\\lenna\\anaconda3\\Lib\\site-packages\\urllib3\\connectionpool.py:404\u001b[0m, in \u001b[0;36mHTTPConnectionPool._make_request\u001b[1;34m(self, conn, method, url, timeout, chunked, **httplib_request_kw)\u001b[0m\n\u001b[0;32m    402\u001b[0m \u001b[38;5;66;03m# Trigger any extra validation we need to do.\u001b[39;00m\n\u001b[0;32m    403\u001b[0m \u001b[38;5;28;01mtry\u001b[39;00m:\n\u001b[1;32m--> 404\u001b[0m     \u001b[38;5;28mself\u001b[39m\u001b[38;5;241m.\u001b[39m_validate_conn(conn)\n\u001b[0;32m    405\u001b[0m \u001b[38;5;28;01mexcept\u001b[39;00m (SocketTimeout, BaseSSLError) \u001b[38;5;28;01mas\u001b[39;00m e:\n\u001b[0;32m    406\u001b[0m     \u001b[38;5;66;03m# Py2 raises this as a BaseSSLError, Py3 raises it as socket timeout.\u001b[39;00m\n\u001b[0;32m    407\u001b[0m     \u001b[38;5;28mself\u001b[39m\u001b[38;5;241m.\u001b[39m_raise_timeout(err\u001b[38;5;241m=\u001b[39me, url\u001b[38;5;241m=\u001b[39murl, timeout_value\u001b[38;5;241m=\u001b[39mconn\u001b[38;5;241m.\u001b[39mtimeout)\n",
      "File \u001b[1;32mc:\\Users\\lenna\\anaconda3\\Lib\\site-packages\\urllib3\\connectionpool.py:1058\u001b[0m, in \u001b[0;36mHTTPSConnectionPool._validate_conn\u001b[1;34m(self, conn)\u001b[0m\n\u001b[0;32m   1056\u001b[0m \u001b[38;5;66;03m# Force connect early to allow us to validate the connection.\u001b[39;00m\n\u001b[0;32m   1057\u001b[0m \u001b[38;5;28;01mif\u001b[39;00m \u001b[38;5;129;01mnot\u001b[39;00m \u001b[38;5;28mgetattr\u001b[39m(conn, \u001b[38;5;124m\"\u001b[39m\u001b[38;5;124msock\u001b[39m\u001b[38;5;124m\"\u001b[39m, \u001b[38;5;28;01mNone\u001b[39;00m):  \u001b[38;5;66;03m# AppEngine might not have  `.sock`\u001b[39;00m\n\u001b[1;32m-> 1058\u001b[0m     conn\u001b[38;5;241m.\u001b[39mconnect()\n\u001b[0;32m   1060\u001b[0m \u001b[38;5;28;01mif\u001b[39;00m \u001b[38;5;129;01mnot\u001b[39;00m conn\u001b[38;5;241m.\u001b[39mis_verified:\n\u001b[0;32m   1061\u001b[0m     warnings\u001b[38;5;241m.\u001b[39mwarn(\n\u001b[0;32m   1062\u001b[0m         (\n\u001b[0;32m   1063\u001b[0m             \u001b[38;5;124m\"\u001b[39m\u001b[38;5;124mUnverified HTTPS request is being made to host \u001b[39m\u001b[38;5;124m'\u001b[39m\u001b[38;5;132;01m%s\u001b[39;00m\u001b[38;5;124m'\u001b[39m\u001b[38;5;124m. \u001b[39m\u001b[38;5;124m\"\u001b[39m\n\u001b[1;32m   (...)\u001b[0m\n\u001b[0;32m   1068\u001b[0m         InsecureRequestWarning,\n\u001b[0;32m   1069\u001b[0m     )\n",
      "File \u001b[1;32mc:\\Users\\lenna\\anaconda3\\Lib\\site-packages\\urllib3\\connection.py:419\u001b[0m, in \u001b[0;36mHTTPSConnection.connect\u001b[1;34m(self)\u001b[0m\n\u001b[0;32m    410\u001b[0m \u001b[38;5;28;01mif\u001b[39;00m (\n\u001b[0;32m    411\u001b[0m     \u001b[38;5;129;01mnot\u001b[39;00m \u001b[38;5;28mself\u001b[39m\u001b[38;5;241m.\u001b[39mca_certs\n\u001b[0;32m    412\u001b[0m     \u001b[38;5;129;01mand\u001b[39;00m \u001b[38;5;129;01mnot\u001b[39;00m \u001b[38;5;28mself\u001b[39m\u001b[38;5;241m.\u001b[39mca_cert_dir\n\u001b[1;32m   (...)\u001b[0m\n\u001b[0;32m    415\u001b[0m     \u001b[38;5;129;01mand\u001b[39;00m \u001b[38;5;28mhasattr\u001b[39m(context, \u001b[38;5;124m\"\u001b[39m\u001b[38;5;124mload_default_certs\u001b[39m\u001b[38;5;124m\"\u001b[39m)\n\u001b[0;32m    416\u001b[0m ):\n\u001b[0;32m    417\u001b[0m     context\u001b[38;5;241m.\u001b[39mload_default_certs()\n\u001b[1;32m--> 419\u001b[0m \u001b[38;5;28mself\u001b[39m\u001b[38;5;241m.\u001b[39msock \u001b[38;5;241m=\u001b[39m ssl_wrap_socket(\n\u001b[0;32m    420\u001b[0m     sock\u001b[38;5;241m=\u001b[39mconn,\n\u001b[0;32m    421\u001b[0m     keyfile\u001b[38;5;241m=\u001b[39m\u001b[38;5;28mself\u001b[39m\u001b[38;5;241m.\u001b[39mkey_file,\n\u001b[0;32m    422\u001b[0m     certfile\u001b[38;5;241m=\u001b[39m\u001b[38;5;28mself\u001b[39m\u001b[38;5;241m.\u001b[39mcert_file,\n\u001b[0;32m    423\u001b[0m     key_password\u001b[38;5;241m=\u001b[39m\u001b[38;5;28mself\u001b[39m\u001b[38;5;241m.\u001b[39mkey_password,\n\u001b[0;32m    424\u001b[0m     ca_certs\u001b[38;5;241m=\u001b[39m\u001b[38;5;28mself\u001b[39m\u001b[38;5;241m.\u001b[39mca_certs,\n\u001b[0;32m    425\u001b[0m     ca_cert_dir\u001b[38;5;241m=\u001b[39m\u001b[38;5;28mself\u001b[39m\u001b[38;5;241m.\u001b[39mca_cert_dir,\n\u001b[0;32m    426\u001b[0m     ca_cert_data\u001b[38;5;241m=\u001b[39m\u001b[38;5;28mself\u001b[39m\u001b[38;5;241m.\u001b[39mca_cert_data,\n\u001b[0;32m    427\u001b[0m     server_hostname\u001b[38;5;241m=\u001b[39mserver_hostname,\n\u001b[0;32m    428\u001b[0m     ssl_context\u001b[38;5;241m=\u001b[39mcontext,\n\u001b[0;32m    429\u001b[0m     tls_in_tls\u001b[38;5;241m=\u001b[39mtls_in_tls,\n\u001b[0;32m    430\u001b[0m )\n\u001b[0;32m    432\u001b[0m \u001b[38;5;66;03m# If we're using all defaults and the connection\u001b[39;00m\n\u001b[0;32m    433\u001b[0m \u001b[38;5;66;03m# is TLSv1 or TLSv1.1 we throw a DeprecationWarning\u001b[39;00m\n\u001b[0;32m    434\u001b[0m \u001b[38;5;66;03m# for the host.\u001b[39;00m\n\u001b[0;32m    435\u001b[0m \u001b[38;5;28;01mif\u001b[39;00m (\n\u001b[0;32m    436\u001b[0m     default_ssl_context\n\u001b[0;32m    437\u001b[0m     \u001b[38;5;129;01mand\u001b[39;00m \u001b[38;5;28mself\u001b[39m\u001b[38;5;241m.\u001b[39mssl_version \u001b[38;5;129;01mis\u001b[39;00m \u001b[38;5;28;01mNone\u001b[39;00m\n\u001b[0;32m    438\u001b[0m     \u001b[38;5;129;01mand\u001b[39;00m \u001b[38;5;28mhasattr\u001b[39m(\u001b[38;5;28mself\u001b[39m\u001b[38;5;241m.\u001b[39msock, \u001b[38;5;124m\"\u001b[39m\u001b[38;5;124mversion\u001b[39m\u001b[38;5;124m\"\u001b[39m)\n\u001b[0;32m    439\u001b[0m     \u001b[38;5;129;01mand\u001b[39;00m \u001b[38;5;28mself\u001b[39m\u001b[38;5;241m.\u001b[39msock\u001b[38;5;241m.\u001b[39mversion() \u001b[38;5;129;01min\u001b[39;00m {\u001b[38;5;124m\"\u001b[39m\u001b[38;5;124mTLSv1\u001b[39m\u001b[38;5;124m\"\u001b[39m, \u001b[38;5;124m\"\u001b[39m\u001b[38;5;124mTLSv1.1\u001b[39m\u001b[38;5;124m\"\u001b[39m}\n\u001b[0;32m    440\u001b[0m ):\n",
      "File \u001b[1;32mc:\\Users\\lenna\\anaconda3\\Lib\\site-packages\\urllib3\\util\\ssl_.py:402\u001b[0m, in \u001b[0;36mssl_wrap_socket\u001b[1;34m(sock, keyfile, certfile, cert_reqs, ca_certs, server_hostname, ssl_version, ciphers, ssl_context, ca_cert_dir, key_password, ca_cert_data, tls_in_tls)\u001b[0m\n\u001b[0;32m    400\u001b[0m \u001b[38;5;28;01mif\u001b[39;00m ca_certs \u001b[38;5;129;01mor\u001b[39;00m ca_cert_dir \u001b[38;5;129;01mor\u001b[39;00m ca_cert_data:\n\u001b[0;32m    401\u001b[0m     \u001b[38;5;28;01mtry\u001b[39;00m:\n\u001b[1;32m--> 402\u001b[0m         context\u001b[38;5;241m.\u001b[39mload_verify_locations(ca_certs, ca_cert_dir, ca_cert_data)\n\u001b[0;32m    403\u001b[0m     \u001b[38;5;28;01mexcept\u001b[39;00m (\u001b[38;5;167;01mIOError\u001b[39;00m, \u001b[38;5;167;01mOSError\u001b[39;00m) \u001b[38;5;28;01mas\u001b[39;00m e:\n\u001b[0;32m    404\u001b[0m         \u001b[38;5;28;01mraise\u001b[39;00m SSLError(e)\n",
      "\u001b[1;31mKeyboardInterrupt\u001b[0m: "
     ]
    }
   ],
   "source": [
    "for qid_to_check in qids_list:\n",
    "    api_url = f\"https://www.wikidata.org/wiki/Special:EntityData/{qid_to_check}.json\"\n",
    "\n",
    "    try:\n",
    "        # HTTP-Anfrage, um die JSON-Daten des Wikidata-Eintrags abzurufen\n",
    "        response = requests.get(api_url)\n",
    "        if response.status_code == 200:\n",
    "            entity_data = response.json()\n",
    "\n",
    "            # Überprüfe, ob der Eintrag eine Instanz der Klasse \"Mensch\" (Q5) ist\n",
    "            if \"entities\" in entity_data and qid_to_check in entity_data[\"entities\"]:\n",
    "                instance_of_claims = entity_data[\"entities\"][qid_to_check][\"claims\"].get(\"P31\", [])\n",
    "                is_human = any(claim[\"mainsnak\"][\"datavalue\"][\"value\"][\"id\"] == \"Q5\" for claim in instance_of_claims)\n",
    "                \n",
    "                if is_human:\n",
    "                    print(f\"Der Wikidata-Eintrag {qid_to_check} repräsentiert einen Menschen.\")\n",
    "                else:\n",
    "                    print(f\"Der Wikidata-Eintrag {qid_to_check} repräsentiert keine Person (Mensch).\")\n",
    "            else:\n",
    "                print(f\"Der Wikidata-Eintrag {qid_to_check} wurde nicht gefunden oder enthält keine Daten.\")\n",
    "\n",
    "        else:\n",
    "            print(f\"Fehler bei der HTTP-Anfrage für {qid_to_check}: Statuscode {response.status_code}\")\n",
    "\n",
    "    except requests.exceptions.RequestException as e:\n",
    "        print(f\"Fehler bei der HTTP-Anfrage für {qid_to_check}: {e}\")\n",
    "    except KeyError as e:\n",
    "        print(f\"Unerwarteter JSON-Formatfehler für {qid_to_check}: {e}\")\n",
    "    except Exception as e:\n",
    "        print(f\"Allgemeiner Fehler für {qid_to_check}: {e}\")"
   ]
  },
  {
   "cell_type": "markdown",
   "metadata": {},
   "source": [
    "## Auswahl zwischen den einträgen welche Menschen Repsäsentieren und erstellen eines Dictonarys zum gewählen Eintrag (Beispeil Anke Becker)"
   ]
  },
  {
   "cell_type": "code",
   "execution_count": null,
   "metadata": {},
   "outputs": [
    {
     "name": "stdout",
     "output_type": "stream",
     "text": [
      "Wähle einen Eintrag aus der Liste:\n",
      "1. Anke Becker (German university teacher)\n",
      "2. Anke Becker (German visual artist)\n",
      "3. Anke Becker (faculty at Harvard Business School)\n",
      "Gib die Nummer des gewünschten Eintrags ein (oder '0', um abzubrechen): 1\n",
      "Gewählter Eintrag:\n",
      "{'label': 'Anke Becker', 'description': 'German university teacher', 'qid': 'Q21253882'}\n"
     ]
    }
   ],
   "source": [
    "def choose_entry(entries):\n",
    "    # Funktion zur Auswahl eines Eintrags aus der Liste anhand der Benutzereingabe\n",
    "    if not entries:\n",
    "        return None  # Rückgabe von None, wenn die Liste leer ist\n",
    "    \n",
    "    print(\"Wähle einen Eintrag aus der Liste:\")\n",
    "    for i, entry in enumerate(entries):\n",
    "        print(f\"{i + 1}. {entry['label']} ({entry['description']})\")\n",
    "\n",
    "    choice = input(\"Gib die Nummer des gewünschten Eintrags ein (oder '0', um abzubrechen): \")\n",
    "    try:\n",
    "        index = int(choice) - 1\n",
    "        if 0 <= index < len(entries):\n",
    "            return entries[index]\n",
    "        elif index == -1:\n",
    "            return None  # Abbruch\n",
    "        else:\n",
    "            print(\"Ungültige Eingabe. Bitte gib eine gültige Nummer ein.\")\n",
    "            return choose_entry(entries)\n",
    "    except ValueError:\n",
    "        print(\"Ungültige Eingabe. Bitte gib eine gültige Nummer ein.\")\n",
    "        return choose_entry(entries)\n",
    "\n",
    "search_term = \"Anke Becker\"\n",
    "api_url = f\"https://www.wikidata.org/w/api.php?action=query&format=json&list=search&srsearch={search_term}\"\n",
    "\n",
    "response = requests.get(api_url)\n",
    "data = response.json()\n",
    "\n",
    "# Liste zur Speicherung von Informationen zu Menschen mit demselben Label\n",
    "human_info_list = []\n",
    "\n",
    "if \"query\" in data and \"search\" in data[\"query\"]:\n",
    "    for result in data[\"query\"][\"search\"]:\n",
    "        q_id = result[\"title\"]\n",
    "        \n",
    "        # API-Anfrage, um die JSON-Daten des Wikidata-Eintrags abzurufen\n",
    "        entity_url = f\"https://www.wikidata.org/wiki/Special:EntityData/{q_id}.json\"\n",
    "        entity_response = requests.get(entity_url)\n",
    "        entity_data = entity_response.json()\n",
    "        \n",
    "        # Überprüfe, ob der Eintrag eine Instanz der Klasse \"Mensch\" (Q5) ist\n",
    "        if \"entities\" in entity_data and q_id in entity_data[\"entities\"]:\n",
    "            instance_of_claims = entity_data[\"entities\"][q_id][\"claims\"].get(\"P31\", [])\n",
    "            is_human = any(claim[\"mainsnak\"][\"datavalue\"][\"value\"][\"id\"] == \"Q5\" for claim in instance_of_claims)\n",
    "            \n",
    "            if is_human:\n",
    "                label = entity_data[\"entities\"][q_id][\"labels\"][\"en\"][\"value\"]\n",
    "                description = entity_data[\"entities\"][q_id][\"descriptions\"][\"en\"][\"value\"]\n",
    "                \n",
    "                # Speichere die Informationen in einem Dictionary\n",
    "                human_info = {\n",
    "                    'label': label,\n",
    "                    'description': description,\n",
    "                    'qid': q_id\n",
    "                }\n",
    "                \n",
    "                # Füge das Dictionary zur Liste hinzu\n",
    "                human_info_list.append(human_info)\n",
    "\n",
    "# Auswahl eines Eintrags aus der Liste (interaktiv)\n",
    "chosen_entry = choose_entry(human_info_list)\n",
    "\n",
    "# Ausgabe des ausgewählten Eintrags\n",
    "if chosen_entry:\n",
    "    print(\"Gewählter Eintrag:\")\n",
    "    print(chosen_entry)\n",
    "else:\n",
    "    print(\"Kein Eintrag ausgewählt oder Liste ist leer.\")"
   ]
  },
  {
   "cell_type": "markdown",
   "metadata": {},
   "source": [
    "#### Nun erstellen wir ein Programm, welches nach Personen in Wikidata anhand der angegebenen Suchbegriffe Sucht. Er extrahiert QIDs für die gefundenen Einträge, überprüft, ob die Einträge Personen repräsentieren. Wenn die einträge Personen Repräsentieren können wir per Input Statement angeben welche Person die richtige ist und es werden relevante Informationen über diese Person in einem Dictionary gespeichert. Schließlich gibt er die gesammelten Informationen über die Personen aus."
   ]
  },
  {
   "cell_type": "code",
   "execution_count": null,
   "metadata": {},
   "outputs": [
    {
     "ename": "NameError",
     "evalue": "name 'requests' is not defined",
     "output_type": "error",
     "traceback": [
      "\u001b[1;31m---------------------------------------------------------------------------\u001b[0m",
      "\u001b[1;31mNameError\u001b[0m                                 Traceback (most recent call last)",
      "Cell \u001b[1;32mIn[1], line 54\u001b[0m\n\u001b[0;32m     52\u001b[0m \u001b[38;5;28;01mtry\u001b[39;00m:\n\u001b[0;32m     53\u001b[0m     \u001b[38;5;66;03m# HTTP-Anfrage, um die Suchergebnisse von Wikidata abzurufen\u001b[39;00m\n\u001b[1;32m---> 54\u001b[0m     response \u001b[38;5;241m=\u001b[39m requests\u001b[38;5;241m.\u001b[39mget(api_url)\n\u001b[0;32m     55\u001b[0m     data \u001b[38;5;241m=\u001b[39m response\u001b[38;5;241m.\u001b[39mjson()\n",
      "\u001b[1;31mNameError\u001b[0m: name 'requests' is not defined",
      "\nDuring handling of the above exception, another exception occurred:\n",
      "\u001b[1;31mNameError\u001b[0m                                 Traceback (most recent call last)",
      "Cell \u001b[1;32mIn[1], line 98\u001b[0m\n\u001b[0;32m     95\u001b[0m         \u001b[38;5;28;01melse\u001b[39;00m:\n\u001b[0;32m     96\u001b[0m             \u001b[38;5;28mprint\u001b[39m(\u001b[38;5;124mf\u001b[39m\u001b[38;5;124m\"\u001b[39m\u001b[38;5;124mKeine Ergebnisse gefunden für den Suchbegriff \u001b[39m\u001b[38;5;124m'\u001b[39m\u001b[38;5;132;01m{\u001b[39;00msearch_term\u001b[38;5;132;01m}\u001b[39;00m\u001b[38;5;124m'\u001b[39m\u001b[38;5;124m.\u001b[39m\u001b[38;5;124m\"\u001b[39m)\n\u001b[1;32m---> 98\u001b[0m \u001b[38;5;28;01mexcept\u001b[39;00m requests\u001b[38;5;241m.\u001b[39mexceptions\u001b[38;5;241m.\u001b[39mRequestException \u001b[38;5;28;01mas\u001b[39;00m e:\n\u001b[0;32m     99\u001b[0m     \u001b[38;5;28mprint\u001b[39m(\u001b[38;5;124mf\u001b[39m\u001b[38;5;124m\"\u001b[39m\u001b[38;5;124mFehler bei der HTTP-Anfrage für \u001b[39m\u001b[38;5;132;01m{\u001b[39;00msearch_term\u001b[38;5;132;01m}\u001b[39;00m\u001b[38;5;124m: \u001b[39m\u001b[38;5;132;01m{\u001b[39;00me\u001b[38;5;132;01m}\u001b[39;00m\u001b[38;5;124m\"\u001b[39m)\n\u001b[0;32m    100\u001b[0m \u001b[38;5;28;01mexcept\u001b[39;00m \u001b[38;5;167;01mKeyError\u001b[39;00m \u001b[38;5;28;01mas\u001b[39;00m e:\n",
      "\u001b[1;31mNameError\u001b[0m: name 'requests' is not defined"
     ]
    }
   ],
   "source": [
    "# Liste von Suchbegriffen, für die die Wikidata-Einträge überprüft werden sollen\n",
    "search_terms = [\"Konrad Förstner\", \"Anke Becker\", \"Peer Bork\", \"Thomas Clavel\", \"Alexander Goesmann\", \"Franziska Hufsky\", \"Thomas Gübitz\", \"Barbara Götz\", \"Marius Dieckmann\", \"Alexander Goesmann\"]\n",
    "\n",
    "# Dictionary zur Speicherung von Informationen zu Menschen\n",
    "human_info_dict = {}\n",
    "\n",
    "# Funktion zur Auswahl einer QID bei mehreren Ergebnissen für denselben Suchbegriff\n",
    "def choose_qid(qid_options, name):\n",
    "    if len(qid_options) == 1:\n",
    "        chosen_qid = qid_options[0]\n",
    "        print(f\"Nur ein Eintrag gefunden für '{name}': QID: {chosen_qid}\")\n",
    "        return chosen_qid\n",
    "    else:\n",
    "        print(f\"Mehrere Einträge gefunden für '{name}'. Bitte wählen Sie eine QID aus:\")\n",
    "        valid_entries = []\n",
    "        for idx, qid in enumerate(qid_options):\n",
    "            entity_url = f\"https://www.wikidata.org/wiki/Special:EntityData/{qid}.json\"\n",
    "            try:\n",
    "                response = requests.get(entity_url)\n",
    "                entity_data = response.json()\n",
    "                if \"entities\" in entity_data and qid in entity_data[\"entities\"]:\n",
    "                    entity_info = entity_data[\"entities\"][qid]\n",
    "                    label = entity_info.get('labels', {}).get('en', {}).get('value', 'N/A')\n",
    "                    description = entity_info.get('descriptions', {}).get('en', {}).get('value', 'N/A')\n",
    "                    instance_of_claims = entity_info[\"claims\"].get(\"P31\", [])\n",
    "                    is_human = any(claim[\"mainsnak\"][\"datavalue\"][\"value\"][\"id\"] == \"Q5\" for claim in instance_of_claims)\n",
    "                    if is_human:\n",
    "                        valid_entries.append({\n",
    "                            'qid': qid,\n",
    "                            'label': label,\n",
    "                            'description': description\n",
    "                        })\n",
    "                        print(f\"{idx + 1}: QID: {qid}, Label: {label}, Beschreibung: {description}\")\n",
    "            except requests.exceptions.RequestException as e:\n",
    "                print(f\"Fehler bei der Abfrage für {qid}: {e}\")\n",
    "\n",
    "        while True:\n",
    "            choice = input(\"Geben Sie die Nummer der gewünschten QID ein: \")\n",
    "            try:\n",
    "                index = int(choice) - 1\n",
    "                if 0 <= index < len(valid_entries):\n",
    "                    return valid_entries[index]['qid']\n",
    "                else:\n",
    "                    print(\"Ungültige Eingabe. Bitte wählen Sie eine der angezeigten Optionen.\")\n",
    "            except ValueError:\n",
    "                print(\"Ungültige Eingabe. Bitte geben Sie eine Zahl ein.\")\n",
    "\n",
    "# Durchlauf der Suchbegriffe\n",
    "for search_term in search_terms:\n",
    "    api_url = f\"https://www.wikidata.org/w/api.php?action=query&format=json&list=search&srsearch={search_term}\"\n",
    "\n",
    "    try:\n",
    "        # HTTP-Anfrage, um die Suchergebnisse von Wikidata abzurufen\n",
    "        response = requests.get(api_url)\n",
    "        data = response.json()\n",
    "\n",
    "        # Überprüfen der Ergebnisse und Extrahieren der QIDs\n",
    "        if \"query\" in data and \"search\" in data[\"query\"]:\n",
    "            qids_options = []\n",
    "            for result in data[\"query\"][\"search\"]:\n",
    "                q_id = result[\"title\"]\n",
    "                qids_options.append(q_id)\n",
    "\n",
    "            # Auswahl einer QID, falls mehrere Optionen vorhanden sind\n",
    "            if len(qids_options) > 0:\n",
    "                chosen_qid = choose_qid(qids_options, search_term)\n",
    "\n",
    "                # API-Anfrage, um die JSON-Daten des Wikidata-Eintrags abzurufen\n",
    "                entity_url = f\"https://www.wikidata.org/wiki/Special:EntityData/{chosen_qid}.json\"\n",
    "                entity_response = requests.get(entity_url)\n",
    "                entity_data = entity_response.json()\n",
    "\n",
    "                # Überprüfen, ob der Eintrag eine Instanz der Klasse \"Mensch\" (Q5) ist\n",
    "                if \"entities\" in entity_data and chosen_qid in entity_data[\"entities\"]:\n",
    "                    entity_info = entity_data[\"entities\"][chosen_qid]\n",
    "\n",
    "                    # Überprüfen, ob der Eintrag einen Menschen repräsentiert\n",
    "                    instance_of_claims = entity_info[\"claims\"].get(\"P31\", [])\n",
    "                    is_human = any(claim[\"mainsnak\"][\"datavalue\"][\"value\"][\"id\"] == \"Q5\" for claim in instance_of_claims)\n",
    "\n",
    "                    if is_human:\n",
    "                        label = entity_info.get('labels', {}).get('en', {}).get('value', 'N/A')\n",
    "                        description = entity_info.get('descriptions', {}).get('en', {}).get('value', 'N/A')\n",
    "\n",
    "                        # Speichern der Informationen im Dictionary\n",
    "                        human_info_dict[label] = {\n",
    "                            'description': description,\n",
    "                            'qid': chosen_qid\n",
    "                        }\n",
    "                    else:\n",
    "                        print(f\"Der Wikidata-Eintrag {chosen_qid} repräsentiert keine Person (Mensch).\")\n",
    "                else:\n",
    "                    print(f\"Der Wikidata-Eintrag {chosen_qid} wurde nicht gefunden oder enthält keine Daten.\")\n",
    "\n",
    "            else:\n",
    "                print(f\"Keine Ergebnisse gefunden für den Suchbegriff '{search_term}'.\")\n",
    "\n",
    "    except requests.exceptions.RequestException as e:\n",
    "        print(f\"Fehler bei der HTTP-Anfrage für {search_term}: {e}\")\n",
    "    except KeyError as e:\n",
    "        print(f\"Unerwarteter JSON-Formatfehler für {search_term}: {e}\")\n",
    "    except Exception as e:\n",
    "        print(f\"Allgemeiner Fehler für {search_term}: {e}\")\n",
    "\n",
    "# Ausgabe des Dictionarys mit Informationen zu Menschen\n",
    "print(\"Dictionary mit Informationen zu Menschen:\")\n",
    "for name, info in human_info_dict.items():\n",
    "    print(f\"Name: {name}, Beschreibung: {info['description']}, QID: {info['qid']}\")"
   ]
  },
  {
   "cell_type": "code",
   "execution_count": null,
   "metadata": {},
   "outputs": [
    {
     "name": "stdout",
     "output_type": "stream",
     "text": [
      "{'Konrad Förstner': {'description': 'bioinformatician', 'qid': 'Q18744528'}, 'Anke Becker': {'description': 'German university teacher', 'qid': 'Q21253882'}, 'Peer Bork': {'description': 'German biologist and bioinformatician', 'qid': 'Q7160367'}, 'Thomas Clavel': {'description': 'researcher', 'qid': 'Q40442760'}, 'Alexander Goesmann': {'description': 'researcher', 'qid': 'Q52422599'}}\n"
     ]
    }
   ],
   "source": [
    "print(human_info_dict)"
   ]
  },
  {
   "cell_type": "code",
   "execution_count": null,
   "metadata": {},
   "outputs": [],
   "source": []
  }
 ],
 "metadata": {
  "kernelspec": {
   "display_name": "Python 3",
   "language": "python",
   "name": "python3"
  },
  "language_info": {
   "codemirror_mode": {
    "name": "ipython",
    "version": 3
   },
   "file_extension": ".py",
   "mimetype": "text/x-python",
   "name": "python",
   "nbconvert_exporter": "python",
   "pygments_lexer": "ipython3",
   "version": "3.11.7"
  }
 },
 "nbformat": 4,
 "nbformat_minor": 4
}
