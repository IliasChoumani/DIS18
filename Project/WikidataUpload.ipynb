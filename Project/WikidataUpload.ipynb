{
 "cells": [
  {
   "cell_type": "markdown",
   "metadata": {},
   "source": [
    "## User Configuration file erstellen"
   ]
  },
  {
   "cell_type": "code",
   "execution_count": 1,
   "metadata": {
    "collapsed": true
   },
   "outputs": [
    {
     "name": "stdout",
     "output_type": "stream",
     "text": [
      "Requirement already satisfied: pywikibot in c:\\users\\ilias\\anaconda3\\lib\\site-packages (9.3.0)\n",
      "Requirement already satisfied: mwparserfromhell>=0.5.2 in c:\\users\\ilias\\anaconda3\\lib\\site-packages (from pywikibot) (0.6.6)\n",
      "Requirement already satisfied: packaging in c:\\users\\ilias\\anaconda3\\lib\\site-packages (from pywikibot) (24.0)\n",
      "Requirement already satisfied: requests>=2.21.0 in c:\\users\\ilias\\anaconda3\\lib\\site-packages (from pywikibot) (2.31.0)\n",
      "Requirement already satisfied: charset-normalizer<4,>=2 in c:\\users\\ilias\\anaconda3\\lib\\site-packages (from requests>=2.21.0->pywikibot) (3.3.2)\n",
      "Requirement already satisfied: idna<4,>=2.5 in c:\\users\\ilias\\anaconda3\\lib\\site-packages (from requests>=2.21.0->pywikibot) (2.10)\n",
      "Requirement already satisfied: urllib3<3,>=1.21.1 in c:\\users\\ilias\\anaconda3\\lib\\site-packages (from requests>=2.21.0->pywikibot) (2.2.1)\n",
      "Requirement already satisfied: certifi>=2017.4.17 in c:\\users\\ilias\\anaconda3\\lib\\site-packages (from requests>=2.21.0->pywikibot) (2024.6.2)\n",
      "Note: you may need to restart the kernel to use updated packages.\n"
     ]
    },
    {
     "name": "stderr",
     "output_type": "stream",
     "text": [
      "DEPRECATION: pyodbc 4.0.0-unsupported has a non-standard version number. pip 24.0 will enforce this behaviour change. A possible replacement is to upgrade to a newer version of pyodbc or contact the author to suggest that they release a version with a conforming version number. Discussion can be found at https://github.com/pypa/pip/issues/12063\n",
      "\n",
      "[notice] A new release of pip is available: 23.3.1 -> 24.2\n",
      "[notice] To update, run: python.exe -m pip install --upgrade pip\n"
     ]
    }
   ],
   "source": [
    "# pywikibot installieren\n",
    "pip install pywikibot"
   ]
  },
  {
   "cell_type": "markdown",
   "metadata": {},
   "source": [
    "Pywikibot-Repository Klonen (in Sheell):  \n",
    "git clone https://gerrit.wikimedia.org/r/pywikibot/core.git pywikibot-core  \n",
    "cd pywikibot-core"
   ]
  },
  {
   "cell_type": "code",
   "execution_count": 7,
   "metadata": {},
   "outputs": [],
   "source": [
    "import json\n",
    "import pywikibot"
   ]
  },
  {
   "cell_type": "code",
   "execution_count": 9,
   "metadata": {},
   "outputs": [
    {
     "ename": "SyntaxError",
     "evalue": "invalid syntax (<ipython-input-9-6db56103a320>, line 2)",
     "output_type": "error",
     "traceback": [
      "\u001b[1;36m  File \u001b[1;32m\"<ipython-input-9-6db56103a320>\"\u001b[1;36m, line \u001b[1;32m2\u001b[0m\n\u001b[1;33m    python pwb.py generate_user_files\u001b[0m\n\u001b[1;37m           ^\u001b[0m\n\u001b[1;31mSyntaxError\u001b[0m\u001b[1;31m:\u001b[0m invalid syntax\n"
     ]
    }
   ],
   "source": [
    "# Skript zur Erstellung der Konfigurationsdatei ausführen\n",
    "python pwb.py generate_user_files\n",
    "# user-config.py sollte nun im aktuellen verzeichniss erstellt sein "
   ]
  },
  {
   "cell_type": "markdown",
   "metadata": {},
   "source": [
    "## Meine Daten der User Config file hinzufügen"
   ]
  },
  {
   "cell_type": "markdown",
   "metadata": {},
   "source": [
    "Die Datei sollte folgender maßen aussehen:   \n",
    "family = 'wikidata'  \n",
    "mylang = 'wikidata'  \n",
    "usernames['wikidata']['wikidata'] = 'YourBotUsername'"
   ]
  },
  {
   "cell_type": "markdown",
   "metadata": {},
   "source": [
    "## Json Datei Hochladen"
   ]
  },
  {
   "cell_type": "code",
   "execution_count": 10,
   "metadata": {},
   "outputs": [],
   "source": [
    "import json\n",
    "import pywikibot"
   ]
  },
  {
   "cell_type": "code",
   "execution_count": 12,
   "metadata": {
    "collapsed": true
   },
   "outputs": [
    {
     "ename": "NoUsernameError",
     "evalue": "ERROR: username for wikidata:wikidata is undefined.\nIf you have a username for that site, please add a line to user config file (user-config.py) as follows:\nusernames['wikidata']['wikidata'] = 'myUsername'",
     "output_type": "error",
     "traceback": [
      "\u001b[1;31m---------------------------------------------------------------------------\u001b[0m",
      "\u001b[1;31mKeyError\u001b[0m                                  Traceback (most recent call last)",
      "\u001b[1;32m~\\anaconda3\\lib\\site-packages\\pywikibot\\login.py\u001b[0m in \u001b[0;36m__init__\u001b[1;34m(self, password, site, user)\u001b[0m\n\u001b[0;32m    101\u001b[0m             \u001b[1;32mtry\u001b[0m\u001b[1;33m:\u001b[0m\u001b[1;33m\u001b[0m\u001b[1;33m\u001b[0m\u001b[0m\n\u001b[1;32m--> 102\u001b[1;33m                 \u001b[0muser\u001b[0m \u001b[1;33m=\u001b[0m \u001b[0mcode_to_usr\u001b[0m\u001b[1;33m.\u001b[0m\u001b[0mget\u001b[0m\u001b[1;33m(\u001b[0m\u001b[0msite\u001b[0m\u001b[1;33m.\u001b[0m\u001b[0mcode\u001b[0m\u001b[1;33m)\u001b[0m \u001b[1;32mor\u001b[0m \u001b[0mcode_to_usr\u001b[0m\u001b[1;33m[\u001b[0m\u001b[1;34m'*'\u001b[0m\u001b[1;33m]\u001b[0m\u001b[1;33m\u001b[0m\u001b[1;33m\u001b[0m\u001b[0m\n\u001b[0m\u001b[0;32m    103\u001b[0m             \u001b[1;32mexcept\u001b[0m \u001b[0mKeyError\u001b[0m\u001b[1;33m:\u001b[0m\u001b[1;33m\u001b[0m\u001b[1;33m\u001b[0m\u001b[0m\n",
      "\u001b[1;31mKeyError\u001b[0m: '*'",
      "\nDuring handling of the above exception, another exception occurred:\n",
      "\u001b[1;31mNoUsernameError\u001b[0m                           Traceback (most recent call last)",
      "\u001b[1;32m<ipython-input-12-fac744b4ef41>\u001b[0m in \u001b[0;36m<module>\u001b[1;34m\u001b[0m\n\u001b[0;32m      1\u001b[0m \u001b[1;31m# Initialisieren des Wikidata-Repositories\u001b[0m\u001b[1;33m\u001b[0m\u001b[1;33m\u001b[0m\u001b[1;33m\u001b[0m\u001b[0m\n\u001b[0;32m      2\u001b[0m \u001b[0msite\u001b[0m \u001b[1;33m=\u001b[0m \u001b[0mpywikibot\u001b[0m\u001b[1;33m.\u001b[0m\u001b[0mSite\u001b[0m\u001b[1;33m(\u001b[0m\u001b[1;34m\"wikidata\"\u001b[0m\u001b[1;33m,\u001b[0m \u001b[1;34m\"wikidata\"\u001b[0m\u001b[1;33m)\u001b[0m\u001b[1;33m\u001b[0m\u001b[1;33m\u001b[0m\u001b[0m\n\u001b[1;32m----> 3\u001b[1;33m \u001b[0msite\u001b[0m\u001b[1;33m.\u001b[0m\u001b[0mlogin\u001b[0m\u001b[1;33m(\u001b[0m\u001b[1;33m)\u001b[0m  \u001b[1;31m# Login mit dem konfigurierten Bot-Account\u001b[0m\u001b[1;33m\u001b[0m\u001b[1;33m\u001b[0m\u001b[0m\n\u001b[0m\u001b[0;32m      4\u001b[0m \u001b[1;33m\u001b[0m\u001b[0m\n\u001b[0;32m      5\u001b[0m \u001b[0mrepo\u001b[0m \u001b[1;33m=\u001b[0m \u001b[0msite\u001b[0m\u001b[1;33m.\u001b[0m\u001b[0mdata_repository\u001b[0m\u001b[1;33m(\u001b[0m\u001b[1;33m)\u001b[0m\u001b[1;33m\u001b[0m\u001b[1;33m\u001b[0m\u001b[0m\n",
      "\u001b[1;32m~\\anaconda3\\lib\\site-packages\\pywikibot\\site\\_apisite.py\u001b[0m in \u001b[0;36mlogin\u001b[1;34m(self, autocreate, user, cookie_only)\u001b[0m\n\u001b[0;32m    431\u001b[0m \u001b[1;33m\u001b[0m\u001b[0m\n\u001b[0;32m    432\u001b[0m         \u001b[1;32mif\u001b[0m \u001b[1;32mnot\u001b[0m \u001b[0mcookie_only\u001b[0m\u001b[1;33m:\u001b[0m\u001b[1;33m\u001b[0m\u001b[1;33m\u001b[0m\u001b[0m\n\u001b[1;32m--> 433\u001b[1;33m             login_manager = login.ClientLoginManager(site=self,\n\u001b[0m\u001b[0;32m    434\u001b[0m                                                      user=self.username())\n\u001b[0;32m    435\u001b[0m             \u001b[1;32mif\u001b[0m \u001b[0mlogin_manager\u001b[0m\u001b[1;33m.\u001b[0m\u001b[0mlogin\u001b[0m\u001b[1;33m(\u001b[0m\u001b[0mretry\u001b[0m\u001b[1;33m=\u001b[0m\u001b[1;32mTrue\u001b[0m\u001b[1;33m,\u001b[0m \u001b[0mautocreate\u001b[0m\u001b[1;33m=\u001b[0m\u001b[0mautocreate\u001b[0m\u001b[1;33m)\u001b[0m\u001b[1;33m:\u001b[0m\u001b[1;33m\u001b[0m\u001b[1;33m\u001b[0m\u001b[0m\n",
      "\u001b[1;32m~\\anaconda3\\lib\\site-packages\\pywikibot\\login.py\u001b[0m in \u001b[0;36m__init__\u001b[1;34m(self, password, site, user)\u001b[0m\n\u001b[0;32m    102\u001b[0m                 \u001b[0muser\u001b[0m \u001b[1;33m=\u001b[0m \u001b[0mcode_to_usr\u001b[0m\u001b[1;33m.\u001b[0m\u001b[0mget\u001b[0m\u001b[1;33m(\u001b[0m\u001b[0msite\u001b[0m\u001b[1;33m.\u001b[0m\u001b[0mcode\u001b[0m\u001b[1;33m)\u001b[0m \u001b[1;32mor\u001b[0m \u001b[0mcode_to_usr\u001b[0m\u001b[1;33m[\u001b[0m\u001b[1;34m'*'\u001b[0m\u001b[1;33m]\u001b[0m\u001b[1;33m\u001b[0m\u001b[1;33m\u001b[0m\u001b[0m\n\u001b[0;32m    103\u001b[0m             \u001b[1;32mexcept\u001b[0m \u001b[0mKeyError\u001b[0m\u001b[1;33m:\u001b[0m\u001b[1;33m\u001b[0m\u001b[1;33m\u001b[0m\u001b[0m\n\u001b[1;32m--> 104\u001b[1;33m                 raise NoUsernameError(\n\u001b[0m\u001b[0;32m    105\u001b[0m                     \u001b[1;34m'ERROR: '\u001b[0m\u001b[1;33m\u001b[0m\u001b[1;33m\u001b[0m\u001b[0m\n\u001b[0;32m    106\u001b[0m                     \u001b[1;34m'username for {site.family.name}:{site.code} is undefined.'\u001b[0m\u001b[1;33m\u001b[0m\u001b[1;33m\u001b[0m\u001b[0m\n",
      "\u001b[1;31mNoUsernameError\u001b[0m: ERROR: username for wikidata:wikidata is undefined.\nIf you have a username for that site, please add a line to user config file (user-config.py) as follows:\nusernames['wikidata']['wikidata'] = 'myUsername'"
     ]
    }
   ],
   "source": [
    "# Initialisieren des Wikidata-Repositories\n",
    "site = pywikibot.Site(\"wikidata\", \"wikidata\")\n",
    "site.login()  # Login mit dem konfigurierten Bot-Account\n",
    "\n",
    "repo = site.data_repository()\n",
    "\n",
    "def create_item(data):\n",
    "    item = pywikibot.ItemPage(repo)\n",
    "    item.editLabels(labels={\"en\": data[\"Person Name\"]}, summary=\"Setting label\")\n",
    "    \n",
    "    for project in data[\"Projekte\"]:\n",
    "        # Beispiel-Property: \"P793\" (Significant event)\n",
    "        claim = pywikibot.Claim(repo, 'P793')\n",
    "        project_link = project[\"Projekt Link\"].split('/')[-1]\n",
    "        project_item = pywikibot.ItemPage.fromPageTitle(repo, project_link)\n",
    "        claim.setTarget(project_item)\n",
    "        item.addClaim(claim, summary=\"Adding project\")\n",
    "\n",
    "# Laden der JSON-Datei und Hochladen der Daten\n",
    "with open('path_to_your_file.json', 'r', encoding='utf-8') as file:\n",
    "    data = json.load(file)\n",
    "\n",
    "create_item(data)"
   ]
  },
  {
   "cell_type": "markdown",
   "metadata": {},
   "source": [
    "## Mehrere Dateien eines Verzeichniss hochladen"
   ]
  },
  {
   "cell_type": "code",
   "execution_count": 15,
   "metadata": {},
   "outputs": [],
   "source": [
    "import os"
   ]
  },
  {
   "cell_type": "code",
   "execution_count": 16,
   "metadata": {},
   "outputs": [
    {
     "ename": "NoUsernameError",
     "evalue": "ERROR: username for wikidata:wikidata is undefined.\nIf you have a username for that site, please add a line to user config file (user-config.py) as follows:\nusernames['wikidata']['wikidata'] = 'myUsername'",
     "output_type": "error",
     "traceback": [
      "\u001b[1;31m---------------------------------------------------------------------------\u001b[0m",
      "\u001b[1;31mKeyError\u001b[0m                                  Traceback (most recent call last)",
      "\u001b[1;32m~\\anaconda3\\lib\\site-packages\\pywikibot\\login.py\u001b[0m in \u001b[0;36m__init__\u001b[1;34m(self, password, site, user)\u001b[0m\n\u001b[0;32m    101\u001b[0m             \u001b[1;32mtry\u001b[0m\u001b[1;33m:\u001b[0m\u001b[1;33m\u001b[0m\u001b[1;33m\u001b[0m\u001b[0m\n\u001b[1;32m--> 102\u001b[1;33m                 \u001b[0muser\u001b[0m \u001b[1;33m=\u001b[0m \u001b[0mcode_to_usr\u001b[0m\u001b[1;33m.\u001b[0m\u001b[0mget\u001b[0m\u001b[1;33m(\u001b[0m\u001b[0msite\u001b[0m\u001b[1;33m.\u001b[0m\u001b[0mcode\u001b[0m\u001b[1;33m)\u001b[0m \u001b[1;32mor\u001b[0m \u001b[0mcode_to_usr\u001b[0m\u001b[1;33m[\u001b[0m\u001b[1;34m'*'\u001b[0m\u001b[1;33m]\u001b[0m\u001b[1;33m\u001b[0m\u001b[1;33m\u001b[0m\u001b[0m\n\u001b[0m\u001b[0;32m    103\u001b[0m             \u001b[1;32mexcept\u001b[0m \u001b[0mKeyError\u001b[0m\u001b[1;33m:\u001b[0m\u001b[1;33m\u001b[0m\u001b[1;33m\u001b[0m\u001b[0m\n",
      "\u001b[1;31mKeyError\u001b[0m: '*'",
      "\nDuring handling of the above exception, another exception occurred:\n",
      "\u001b[1;31mNoUsernameError\u001b[0m                           Traceback (most recent call last)",
      "\u001b[1;32m<ipython-input-16-1d68514f0f74>\u001b[0m in \u001b[0;36m<module>\u001b[1;34m\u001b[0m\n\u001b[0;32m      1\u001b[0m \u001b[1;31m# Initialisieren des Wikidata-Repositories und Anmeldung\u001b[0m\u001b[1;33m\u001b[0m\u001b[1;33m\u001b[0m\u001b[1;33m\u001b[0m\u001b[0m\n\u001b[0;32m      2\u001b[0m \u001b[0msite\u001b[0m \u001b[1;33m=\u001b[0m \u001b[0mpywikibot\u001b[0m\u001b[1;33m.\u001b[0m\u001b[0mSite\u001b[0m\u001b[1;33m(\u001b[0m\u001b[1;34m\"wikidata\"\u001b[0m\u001b[1;33m,\u001b[0m \u001b[1;34m\"wikidata\"\u001b[0m\u001b[1;33m)\u001b[0m\u001b[1;33m\u001b[0m\u001b[1;33m\u001b[0m\u001b[0m\n\u001b[1;32m----> 3\u001b[1;33m \u001b[0msite\u001b[0m\u001b[1;33m.\u001b[0m\u001b[0mlogin\u001b[0m\u001b[1;33m(\u001b[0m\u001b[1;33m)\u001b[0m  \u001b[1;31m# Login mit dem konfigurierten Bot-Account\u001b[0m\u001b[1;33m\u001b[0m\u001b[1;33m\u001b[0m\u001b[0m\n\u001b[0m\u001b[0;32m      4\u001b[0m \u001b[0mrepo\u001b[0m \u001b[1;33m=\u001b[0m \u001b[0msite\u001b[0m\u001b[1;33m.\u001b[0m\u001b[0mdata_repository\u001b[0m\u001b[1;33m(\u001b[0m\u001b[1;33m)\u001b[0m\u001b[1;33m\u001b[0m\u001b[1;33m\u001b[0m\u001b[0m\n\u001b[0;32m      5\u001b[0m \u001b[1;33m\u001b[0m\u001b[0m\n",
      "\u001b[1;32m~\\anaconda3\\lib\\site-packages\\pywikibot\\site\\_apisite.py\u001b[0m in \u001b[0;36mlogin\u001b[1;34m(self, autocreate, user, cookie_only)\u001b[0m\n\u001b[0;32m    431\u001b[0m \u001b[1;33m\u001b[0m\u001b[0m\n\u001b[0;32m    432\u001b[0m         \u001b[1;32mif\u001b[0m \u001b[1;32mnot\u001b[0m \u001b[0mcookie_only\u001b[0m\u001b[1;33m:\u001b[0m\u001b[1;33m\u001b[0m\u001b[1;33m\u001b[0m\u001b[0m\n\u001b[1;32m--> 433\u001b[1;33m             login_manager = login.ClientLoginManager(site=self,\n\u001b[0m\u001b[0;32m    434\u001b[0m                                                      user=self.username())\n\u001b[0;32m    435\u001b[0m             \u001b[1;32mif\u001b[0m \u001b[0mlogin_manager\u001b[0m\u001b[1;33m.\u001b[0m\u001b[0mlogin\u001b[0m\u001b[1;33m(\u001b[0m\u001b[0mretry\u001b[0m\u001b[1;33m=\u001b[0m\u001b[1;32mTrue\u001b[0m\u001b[1;33m,\u001b[0m \u001b[0mautocreate\u001b[0m\u001b[1;33m=\u001b[0m\u001b[0mautocreate\u001b[0m\u001b[1;33m)\u001b[0m\u001b[1;33m:\u001b[0m\u001b[1;33m\u001b[0m\u001b[1;33m\u001b[0m\u001b[0m\n",
      "\u001b[1;32m~\\anaconda3\\lib\\site-packages\\pywikibot\\login.py\u001b[0m in \u001b[0;36m__init__\u001b[1;34m(self, password, site, user)\u001b[0m\n\u001b[0;32m    102\u001b[0m                 \u001b[0muser\u001b[0m \u001b[1;33m=\u001b[0m \u001b[0mcode_to_usr\u001b[0m\u001b[1;33m.\u001b[0m\u001b[0mget\u001b[0m\u001b[1;33m(\u001b[0m\u001b[0msite\u001b[0m\u001b[1;33m.\u001b[0m\u001b[0mcode\u001b[0m\u001b[1;33m)\u001b[0m \u001b[1;32mor\u001b[0m \u001b[0mcode_to_usr\u001b[0m\u001b[1;33m[\u001b[0m\u001b[1;34m'*'\u001b[0m\u001b[1;33m]\u001b[0m\u001b[1;33m\u001b[0m\u001b[1;33m\u001b[0m\u001b[0m\n\u001b[0;32m    103\u001b[0m             \u001b[1;32mexcept\u001b[0m \u001b[0mKeyError\u001b[0m\u001b[1;33m:\u001b[0m\u001b[1;33m\u001b[0m\u001b[1;33m\u001b[0m\u001b[0m\n\u001b[1;32m--> 104\u001b[1;33m                 raise NoUsernameError(\n\u001b[0m\u001b[0;32m    105\u001b[0m                     \u001b[1;34m'ERROR: '\u001b[0m\u001b[1;33m\u001b[0m\u001b[1;33m\u001b[0m\u001b[0m\n\u001b[0;32m    106\u001b[0m                     \u001b[1;34m'username for {site.family.name}:{site.code} is undefined.'\u001b[0m\u001b[1;33m\u001b[0m\u001b[1;33m\u001b[0m\u001b[0m\n",
      "\u001b[1;31mNoUsernameError\u001b[0m: ERROR: username for wikidata:wikidata is undefined.\nIf you have a username for that site, please add a line to user config file (user-config.py) as follows:\nusernames['wikidata']['wikidata'] = 'myUsername'"
     ]
    }
   ],
   "source": [
    "# Initialisieren des Wikidata-Repositories und Anmeldung\n",
    "site = pywikibot.Site(\"wikidata\", \"wikidata\")\n",
    "site.login()  # Login mit dem konfigurierten Bot-Account\n",
    "repo = site.data_repository()\n",
    "\n",
    "def create_item(data):\n",
    "    # Erstellen eines neuen Items\n",
    "    item = pywikibot.ItemPage(repo)\n",
    "    item.editLabels(labels={\"en\": data[\"Person Name\"]}, summary=\"Setting label\")\n",
    "    item.get()  # Neue Seite initialisieren\n",
    "\n",
    "    for project in data[\"Projekte\"]:\n",
    "        # Beispiel-Property: \"P793\" (Significant event)\n",
    "        claim = pywikibot.Claim(repo, 'P793')\n",
    "        project_id = project[\"Projekt Link\"].split('/')[-1]\n",
    "        project_item = pywikibot.ItemPage(repo, project_id)\n",
    "        claim.setTarget(project_item)\n",
    "        item.addClaim(claim, summary=\"Adding project\")\n",
    "\n",
    "# Pfad zum Ordner mit den JSON-Dateien\n",
    "folder_path = 'path_to_your_folder'\n",
    "\n",
    "# Durchlaufen aller Dateien im Ordner\n",
    "for filename in os.listdir(folder_path):\n",
    "    if filename.endswith('.json'):\n",
    "        file_path = os.path.join(folder_path, filename)\n",
    "        with open(file_path, 'r', encoding='utf-8') as file:\n",
    "            data = json.load(file)\n",
    "        create_item(data)\n",
    "        print(f\"Processed {filename}\")\n"
   ]
  },
  {
   "cell_type": "code",
   "execution_count": null,
   "metadata": {},
   "outputs": [],
   "source": []
  }
 ],
 "metadata": {
  "kernelspec": {
   "display_name": "Python 3",
   "language": "python",
   "name": "python3"
  },
  "language_info": {
   "codemirror_mode": {
    "name": "ipython",
    "version": 3
   },
   "file_extension": ".py",
   "mimetype": "text/x-python",
   "name": "python",
   "nbconvert_exporter": "python",
   "pygments_lexer": "ipython3",
   "version": "3.8.5"
  }
 },
 "nbformat": 4,
 "nbformat_minor": 4
}
