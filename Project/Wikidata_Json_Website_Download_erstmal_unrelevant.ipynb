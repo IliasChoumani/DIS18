{
 "cells": [
  {
   "cell_type": "markdown",
   "metadata": {},
   "source": [
    "Nun möchten wir die Wikidata einträge der Autoren in Json Format Downloaden, um unsere Projekte lokal hinzuzufügen. Anschließend möchten wir die erweiterten Json Dateien wieder hochladen umso die Webseiten zu Aktualisieren. (Alles so Automatisiert wie möglich)"
   ]
  },
  {
   "cell_type": "markdown",
   "metadata": {},
   "source": [
    "## QIDs relevanter Einträge in einer Liste speichern"
   ]
  },
  {
   "cell_type": "code",
   "execution_count": 6,
   "metadata": {},
   "outputs": [
    {
     "name": "stdout",
     "output_type": "stream",
     "text": [
      "Liste der QIDs:\n",
      "['Q18744528', 'Q21253882', 'Q7160367', 'Q40442760', 'Q52422599']\n"
     ]
    }
   ],
   "source": [
    "human_info_dict = {'Konrad Förstner': {'description': 'bioinformatician', 'qid': 'Q18744528'}, \n",
    "                   'Anke Becker': {'description': 'German university teacher', 'qid': 'Q21253882'}, \n",
    "                   'Peer Bork': {'description': 'German biologist and bioinformatician', 'qid': 'Q7160367'}, \n",
    "                   'Thomas Clavel': {'description': 'researcher', 'qid': 'Q40442760'}, \n",
    "                   'Alexander Goesmann': {'description': 'researcher', 'qid': 'Q52422599'}}\n",
    "\n",
    "# Extrahiere die QIDs in eine Liste\n",
    "qid_list = [info['qid'] for info in human_info_dict.values()]\n",
    "\n",
    "# Ausgabe der QID-Liste\n",
    "print(\"Liste der QIDs:\")\n",
    "print(qid_list)"
   ]
  },
  {
   "cell_type": "markdown",
   "metadata": {},
   "source": [
    "## Herunterladen und Speicher der Json daten in einer Datei"
   ]
  },
  {
   "cell_type": "code",
   "execution_count": 7,
   "metadata": {},
   "outputs": [],
   "source": [
    "import json\n",
    "import requests"
   ]
  },
  {
   "cell_type": "code",
   "execution_count": 10,
   "metadata": {},
   "outputs": [
    {
     "name": "stdout",
     "output_type": "stream",
     "text": [
      "Daten für QID Q18744528 erfolgreich heruntergeladen und gespeichert.\n",
      "Daten für QID Q21253882 erfolgreich heruntergeladen und gespeichert.\n",
      "Daten für QID Q7160367 erfolgreich heruntergeladen und gespeichert.\n",
      "Daten für QID Q40442760 erfolgreich heruntergeladen und gespeichert.\n",
      "Daten für QID Q52422599 erfolgreich heruntergeladen und gespeichert.\n",
      "Daten wurden im JSON-Format erfolgreich in 'Wikidata_Json/exported_data_Wikidata.json' gespeichert.\n"
     ]
    }
   ],
   "source": [
    "# Dictionary zur Speicherung der exportierten Daten\n",
    "exported_data = {}\n",
    "\n",
    "# Wikidata Export Service URL\n",
    "export_url = \"https://www.wikidata.org/wiki/Special:EntityData/\"\n",
    "\n",
    "# Durchlauf der QIDs\n",
    "for qid in qid_list:\n",
    "    try:\n",
    "        # API-Anfrage an den Wikidata Export Service für die spezifische QID\n",
    "        entity_url = f\"{export_url}{qid}.json\"\n",
    "        response = requests.get(entity_url)\n",
    "        data = response.json()\n",
    "\n",
    "        # Speichere die exportierten Daten im Dictionary\n",
    "        exported_data[qid] = data\n",
    "\n",
    "        print(f\"Daten für QID {qid} erfolgreich heruntergeladen und gespeichert.\")\n",
    "    except requests.exceptions.RequestException as e:\n",
    "        print(f\"Fehler bei der Anfrage für QID {qid}: {e}\")\n",
    "    except Exception as e:\n",
    "        print(f\"Allgemeiner Fehler für QID {qid}: {e}\")\n",
    "\n",
    "# Speichern der exportierten Daten im JSON-Format\n",
    "output_file = \"Wikidata_Json/exported_data_Wikidata.json\"\n",
    "with open(output_file, 'w') as f:\n",
    "    json.dump(exported_data, f, indent=4)\n",
    "\n",
    "print(f\"Daten wurden im JSON-Format erfolgreich in '{output_file}' gespeichert.\")"
   ]
  },
  {
   "cell_type": "markdown",
   "metadata": {},
   "source": [
    "### Herunterladen und Speicher der Json daten in verschiedenen dateien für die jeweiligen Autoren"
   ]
  },
  {
   "cell_type": "code",
   "execution_count": 11,
   "metadata": {},
   "outputs": [
    {
     "name": "stdout",
     "output_type": "stream",
     "text": [
      "Daten für QID Q18744528 mit Label 'Konrad Förstner' erfolgreich in 'Wikidata_Json/Q18744528_Konrad Förstner.json' gespeichert.\n",
      "Daten für QID Q21253882 mit Label 'Anke Becker' erfolgreich in 'Wikidata_Json/Q21253882_Anke Becker.json' gespeichert.\n",
      "Daten für QID Q7160367 mit Label 'Peer Bork' erfolgreich in 'Wikidata_Json/Q7160367_Peer Bork.json' gespeichert.\n",
      "Daten für QID Q40442760 mit Label 'Thomas Clavel' erfolgreich in 'Wikidata_Json/Q40442760_Thomas Clavel.json' gespeichert.\n",
      "Daten für QID Q52422599 mit Label 'Alexander Goesmann' erfolgreich in 'Wikidata_Json/Q52422599_Alexander Goesmann.json' gespeichert.\n"
     ]
    }
   ],
   "source": [
    "# Wikidata Export Service URL\n",
    "export_url = \"https://www.wikidata.org/wiki/Special:EntityData/\"\n",
    "\n",
    "# Durchlaufe die QIDs in der Liste\n",
    "for qid in qid_list:\n",
    "    try:\n",
    "        # API-Anfrage an den Wikidata Export Service für die spezifische QID\n",
    "        entity_url = f\"{export_url}{qid}.json\"\n",
    "        response = requests.get(entity_url)\n",
    "        data = response.json()\n",
    "\n",
    "        # Extrahiere das Label aus den Wikidata-Daten\n",
    "        label = data['entities'][qid]['labels']['en']['value']  # Englische Label verwenden\n",
    "\n",
    "        # Speichern der exportierten Daten in einer JSON-Datei mit QID und Label im Dateinamen\n",
    "        output_file = f\"Wikidata_Json/{qid}_{label}.json\"\n",
    "        with open(output_file, 'w', encoding='utf-8') as json_file:\n",
    "            json.dump(data, json_file, ensure_ascii=False, indent=2)\n",
    "\n",
    "        print(f\"Daten für QID {qid} mit Label '{label}' erfolgreich in '{output_file}' gespeichert.\")\n",
    "    except requests.exceptions.RequestException as e:\n",
    "        print(f\"Fehler bei der Anfrage für QID {qid}: {e}\")\n",
    "    except KeyError as ke:\n",
    "        print(f\"Fehler beim Extrahieren des Labels für QID {qid}: {ke}\")\n",
    "    except Exception as ex:\n",
    "        print(f\"Allgemeiner Fehler für QID {qid}: {ex}\")\n"
   ]
  },
  {
   "cell_type": "markdown",
   "metadata": {},
   "source": [
    "### Herunterladen und Speicher der Wikidata seite NFDI4Microbiota "
   ]
  },
  {
   "cell_type": "code",
   "execution_count": 13,
   "metadata": {},
   "outputs": [
    {
     "name": "stdout",
     "output_type": "stream",
     "text": [
      "Daten für QID Q99534506 mit Label 'NFDI4Microbiota' erfolgreich in 'Wikidata_Json/Q99534506_NFDI4Microbiota.json' gespeichert.\n"
     ]
    }
   ],
   "source": [
    "import requests\n",
    "import json\n",
    "\n",
    "# Wikidata Export Service URL\n",
    "export_url = \"https://www.wikidata.org/wiki/Special:EntityData/\"\n",
    "\n",
    "# QID für die spezifische Entität\n",
    "qid = \"Q99534506\"\n",
    "\n",
    "try:\n",
    "    # API-Anfrage an den Wikidata Export Service für die spezifische QID\n",
    "    entity_url = f\"{export_url}{qid}.json\"\n",
    "    response = requests.get(entity_url)\n",
    "    data = response.json()\n",
    "\n",
    "    # Extrahiere das Label aus den Wikidata-Daten\n",
    "    label = data['entities'][qid]['labels']['en']['value']  # Englische Label verwenden\n",
    "\n",
    "    # Speichern der exportierten Daten in einer JSON-Datei mit QID und Label im Dateinamen\n",
    "    output_file = f\"Wikidata_Json/{qid}_{label}.json\"\n",
    "    with open(output_file, 'w', encoding='utf-8') as json_file:\n",
    "        json.dump(data, json_file, ensure_ascii=False, indent=2)\n",
    "\n",
    "    print(f\"Daten für QID {qid} mit Label '{label}' erfolgreich in '{output_file}' gespeichert.\")\n",
    "except requests.exceptions.RequestException as e:\n",
    "    print(f\"Fehler bei der Anfrage für QID {qid}: {e}\")\n",
    "except KeyError as ke:\n",
    "    print(f\"Fehler beim Extrahieren des Labels für QID {qid}: {ke}\")\n",
    "except Exception as ex:\n",
    "    print(f\"Allgemeiner Fehler für QID {qid}: {ex}\")"
   ]
  },
  {
   "cell_type": "code",
   "execution_count": null,
   "metadata": {},
   "outputs": [],
   "source": []
  }
 ],
 "metadata": {
  "kernelspec": {
   "display_name": "Python 3",
   "language": "python",
   "name": "python3"
  },
  "language_info": {
   "codemirror_mode": {
    "name": "ipython",
    "version": 3
   },
   "file_extension": ".py",
   "mimetype": "text/x-python",
   "name": "python",
   "nbconvert_exporter": "python",
   "pygments_lexer": "ipython3",
   "version": "3.8.5"
  }
 },
 "nbformat": 4,
 "nbformat_minor": 4
}
