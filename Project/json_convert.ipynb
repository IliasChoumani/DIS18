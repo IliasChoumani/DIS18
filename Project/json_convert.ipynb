{
 "cells": [
  {
   "cell_type": "code",
   "execution_count": 9,
   "metadata": {},
   "outputs": [],
   "source": [
    "import json\n",
    "import os"
   ]
  },
  {
   "cell_type": "code",
   "execution_count": 15,
   "metadata": {},
   "outputs": [],
   "source": [
    "# Pfad zum Ordner aller heruntergladener JSON-Dateien\n",
    "folder_path = 'C:/Users/lenna/Studium/wikidata/DIS18-main/jsonGepris/gut'\n",
    "\n",
    "# Pfad zum Ordner der Personendaten von wikidata (Q-ID)\n",
    "human_info_path = 'C:/Users/lenna/Studium/wikidata/DIS18-main/python/wikidata_person_data_output/human_info.json'\n",
    "\n",
    "# Pfad zum Ablageort der zusammengefügten Datei \n",
    "output_folder_path = 'C:/Users/lenna/Studium/wikidata/DIS18-main/combined'"
   ]
  },
  {
   "cell_type": "code",
   "execution_count": 11,
   "metadata": {},
   "outputs": [],
   "source": [
    "# Liste für alle zusammengefügten Daten\n",
    "combined_data = []"
   ]
  },
  {
   "cell_type": "code",
   "execution_count": 16,
   "metadata": {},
   "outputs": [
    {
     "name": "stdout",
     "output_type": "stream",
     "text": [
      "Lese Datei: C:/Users/lenna/Studium/wikidata/DIS18-main/jsonGepris/gut\\Professor-Dr-Alexander-Goesmann.json\n",
      "Inhalt von Professor-Dr-Alexander-Goesmann.json: {'Person Name': 'Professor Dr. Alexander  Goesmann', 'Projekte': [{'Projekt Name': 'Core Unit - Genom Signaturen und integrierte Systembiologie der Pathogen-Wirts Interaktion', 'Projekt Link': '/gepris/projekt/319835486'}, {'Projekt Name': 'Bioinformatische Methoden zur Analyse der mutualistischen RNA-Kommunikation', 'Projekt Link': '/gepris/projekt/447603908'}, {'Projekt Name': 'Bioinformatische Workflows zur skalierbaren Analyse von pflanzlichen “Omics”-Daten in Cloud-Computing-Umgebungen', 'Projekt Link': '/gepris/projekt/456668568'}, {'Projekt Name': 'Evolution von Gennetzwerken: Die Ranunculales als Modellordnung für evolutionäre Innovationen', 'Projekt Link': '/gepris/projekt/458957343'}, {'Projekt Name': 'GRK 2355:\\xa0Regulatorische Netzwerke im mRNA-Lebenszyklus:\\nvon kodierenden zu nichtkodierenden RNAs', 'Projekt Link': '/gepris/projekt/325443116'}, {'Projekt Name': 'GRK 1906:\\xa0Informatische Methoden für die Analyse von Genomdiversität und -dynamik', 'Projekt Link': '/gepris/projekt/221270173'}, {'Projekt Name': 'KFO 309:\\xa0Virus-induced Lung Injury:\\nPathobiology and Novel Therapeutic Strategies', 'Projekt Link': '/gepris/projekt/284237345'}, {'Projekt Name': 'Bioinformatische Analyse genomweiter Datensätze', 'Projekt Link': '/gepris/projekt/183605059'}, {'Projekt Name': 'NFDI4BioDiversität – Biodiversität, Ökologie und Umweltdaten', 'Projekt Link': '/gepris/projekt/442032008'}, {'Projekt Name': 'NFDI4Microbiota - Nationale Forschungsdateninfrastruktur für Mikrobiota-Forschung', 'Projekt Link': '/gepris/projekt/460129525'}, {'Projekt Name': 'Genom-weite Untersuchungen zur Artbildung unter sympatrischen Bedingungen in einem marinen Säuger: demographische Entwicklungsgeschichte, Populationsstruktur und lokale Anpassung im vom Aussterben bedrohten Galapagos Seelöwen', 'Projekt Link': '/gepris/projekt/255821879'}, {'Projekt Name': 'Die Rolle von SOCS1 Mutationen bei der Pathogenese von Hodgkin Lymphomen und Diffus großzelligen B-Zell Lymphomen', 'Projekt Link': '/gepris/projekt/507302435'}, {'Projekt Name': 'Nukleosom-Präservierung in Säugetier-Spermien: ein epigenetisches Programm zur Wahrung der gesunden männlichen Reproduktion', 'Projekt Link': '/gepris/projekt/270041755'}, {'Projekt Name': 'Untersuchung der Mechanismen für die Stabilität von mcr-1-kodierenden IncX4-Mechanismen', 'Projekt Link': '/gepris/projekt/491261247'}]}\n",
      "Lese Datei: C:/Users/lenna/Studium/wikidata/DIS18-main/jsonGepris/gut\\Professor-Dr-Konrad-Förstner.json\n",
      "Inhalt von Professor-Dr-Konrad-Förstner.json: {'Person Name': 'Professor Dr. Konrad  Förstner', 'Projekte': [{'Projekt Name': 'sRNARegNet - Vergleichende Analyse der regulatorischen Netzwerke kleiner RNA in Gammaproteobacteria', 'Projekt Link': '/gepris/projekt/433110396'}, {'Projekt Name': 'PIXLS - Preprint Information eXtraction for Life Sciences', 'Projekt Link': '/gepris/projekt/492813820'}, {'Projekt Name': 'Automatic Quality Assessment: NLP-Verfahren zur semantischen Kartierung von Lebenswissenschaftlichen Texten (AQUAS)', 'Projekt Link': '/gepris/projekt/509313233'}, {'Projekt Name': 'NFDI4Microbiota - Nationale Forschungsdateninfrastruktur für Mikrobiota-Forschung', 'Projekt Link': '/gepris/projekt/460129525'}, {'Projekt Name': 'Base4NFDI - Basisdienste für die NFDI (NFDI4Microbiota)', 'Projekt Link': '/gepris/projekt/521476232'}]}\n",
      "Lese Datei: C:/Users/lenna/Studium/wikidata/DIS18-main/jsonGepris/gut\\Professor-Dr-Peer-Bork.json\n",
      "Inhalt von Professor-Dr-Peer-Bork.json: {'Person Name': 'Professor Dr. Peer  Bork', 'Projekte': [{'Projekt Name': 'Stoffwechselwegvorhersagen mittels Genomanalyse und Enzymkettenmodellierung', 'Projekt Link': '/gepris/projekt/5131248'}, {'Projekt Name': 'Molekulare Pathogenese und Immunbiologie intestinaler MSI Tumoren in einem DNA Mismatch Reparatur-defizienten Mausmodell', 'Projekt Link': '/gepris/projekt/290363600'}, {'Projekt Name': 'EXC 81:\\xa0Zelluläre Netzwerke: Von der Analyse molekularer Mechanismen zum quantitativen Verständnis komplexer Funktionen', 'Projekt Link': '/gepris/projekt/24122740'}, {'Projekt Name': 'GHGA – Deutsches Humangenom-Phenomarchiv', 'Projekt Link': '/gepris/projekt/441914366'}, {'Projekt Name': 'NFDI4Microbiota - Nationale Forschungsdateninfrastruktur für Mikrobiota-Forschung', 'Projekt Link': '/gepris/projekt/460129525'}, {'Projekt Name': 'Molekularbiologie', 'Projekt Link': '/gepris/projekt/5413368'}]}\n",
      "Lese Datei: C:/Users/lenna/Studium/wikidata/DIS18-main/jsonGepris/gut\\Professor-Dr-Thomas-Clavel.json\n",
      "Inhalt von Professor-Dr-Thomas-Clavel.json: {'Person Name': 'Professor Dr. Thomas  Clavel', 'Projekte': [{'Projekt Name': 'Ökologie und Funktionen kleiner SCIFF-Proteine im Darmmikrobiom', 'Projekt Link': '/gepris/projekt/453182863'}, {'Projekt Name': 'Kausale Rolle des Gallensäuremetabolismus durch das Mikrobiom bei Dickdarmkrebs', 'Projekt Link': '/gepris/projekt/453229399'}, {'Projekt Name': 'Personalisierte Wirkung von Antibiotika auf das Darmmikrobiom mittels Hoch-Durchsatz Kultivierung', 'Projekt Link': '/gepris/projekt/513892404'}, {'Projekt Name': 'Funktionen und metabolische Adaptation von dominanten Darmbakterien der Familie Coriobacteriaceae im Kontext des Lipidmetabolismus des Wirtes', 'Projekt Link': '/gepris/projekt/242504939'}, {'Projekt Name': '- MIMIC -\\nKomplementäre Nutzung von innovativen kulturbasierten und molekularen Methoden zur Herstellung von Minimalen Mikrobiellen Konsortien', 'Projekt Link': '/gepris/projekt/316102599'}, {'Projekt Name': 'Funktionelle Analyse der Mikrobiom-Wirt Interaktion während des postnatalen „window of opportunity“ mithilfe eines mehrdimensionalen Sequenzieransatzes', 'Projekt Link': '/gepris/projekt/418004173'}, {'Projekt Name': 'Plattform zur automatisierten Isolierung und Charakterisierung von anaeroben Bakterien', 'Projekt Link': '/gepris/projekt/445552570'}, {'Projekt Name': 'Perinatale Interaktionen zwischen Mikrobiom und intestinalen Makrophagen bei der Kontrolle mukosaler Pathogene', 'Projekt Link': '/gepris/projekt/516780480'}, {'Projekt Name': 'Gezieltes Design und Manipulation bakterieller Minimalkonsortien zum gezielten Austausch in Mikrobiomen', 'Projekt Link': '/gepris/projekt/418598556'}, {'Projekt Name': 'Gnotobiotische Mausmodelle und minimale bakterielle Konsortien', 'Projekt Link': '/gepris/projekt/418603037'}, {'Projekt Name': 'Effekte des mikrobiellen Lipidstoffwechsels auf die Darm-Leber Achse', 'Projekt Link': '/gepris/projekt/424650015'}, {'Projekt Name': 'Funktionelle Mikrobiom-Analyse', 'Projekt Link': '/gepris/projekt/424795268'}, {'Projekt Name': 'NFDI4Microbiota - Nationale Forschungsdateninfrastruktur für Mikrobiota-Forschung', 'Projekt Link': '/gepris/projekt/460129525'}]}\n",
      "Lese Datei: C:/Users/lenna/Studium/wikidata/DIS18-main/jsonGepris/gut\\Professorin-Dr-Anke-Becker.json\n",
      "Inhalt von Professorin-Dr-Anke-Becker.json: {'Person Name': 'Professorin Dr. Anke  Becker', 'Projekte': [{'Projekt Name': 'Vielfalt und funktionelle Diversität der Signalwege zyklischer Mononukleotide in Sinorhizobium meliloti', 'Projekt Link': '/gepris/projekt/314772579'}, {'Projekt Name': 'Echtzeitanalyse des rhizobiellen Lebensstilwechsels von der Rhizosphäre in den Wirtspflanzen-geprägten Kolonisierungsmodus', 'Projekt Link': '/gepris/projekt/431352836'}, {'Projekt Name': 'SP4 - Wechselspiel zwischen Umweltbedingungen, Baumwachstum und eichen-assoziierter Mikrobiome im Boden, der Endo- und Phyllosphäre', 'Projekt Link': '/gepris/projekt/520751609'}, {'Projekt Name': 'Polymerisation und Export der sauren Exopolysaccharide Succinoglycan und Galactoglucan von Sinorhizobium meliloti', 'Projekt Link': '/gepris/projekt/5095944'}, {'Projekt Name': 'Genetik', 'Projekt Link': '/gepris/projekt/5310710'}, {'Projekt Name': 'Regulation of the metabolic adaptation of the phytopathogenic bacteria Xanthomonas campestris pv. campestris and Xanthomonas campestris pv. armoraciae during infection of Arabidopsis thaliana', 'Projekt Link': '/gepris/projekt/71821268'}, {'Projekt Name': 'Target identification and functional analysis of regulatory small RNAs in Sinorhizobium meliloti and related alpha-proteobacteria', 'Projekt Link': '/gepris/projekt/40014398'}, {'Projekt Name': 'Molecular principles of c-di-GMP signaling cascades in Escherichia coli', 'Projekt Link': '/gepris/projekt/198305071'}, {'Projekt Name': 'Molekulare Mechanismen und Vorteile phänotypischer Heterogenität in Sinorhizobium meliloti Populationen', 'Projekt Link': '/gepris/projekt/218318381'}, {'Projekt Name': 'Laborautomationsplattform', 'Projekt Link': '/gepris/projekt/230488449'}, {'Projekt Name': 'GRK 2937:\\xa0Nukleotid Metabolismus in Mikroben', 'Projekt Link': '/gepris/projekt/505997786'}, {'Projekt Name': 'Kräfte und molekulare Mechanismen der DNA-Protein-Bindung', 'Projekt Link': '/gepris/projekt/5365365'}, {'Projekt Name': 'Gegenläufige Regulation der Oberflächenpolysaccharid-Biosynthese und Motilität in Sinorhizobium meliloti', 'Projekt Link': '/gepris/projekt/224619622'}, {'Projekt Name': 'Räumliche Organisation und zeitliche Dynamik alpha-rhizobieller Multi-Replikon-Genome', 'Projekt Link': '/gepris/projekt/326552732'}, {'Projekt Name': 'NFDI4Microbiota - Nationale Forschungsdateninfrastruktur für Mikrobiota-Forschung', 'Projekt Link': '/gepris/projekt/460129525'}, {'Projekt Name': 'Anpassung von Synechococcus elongatus PCC 7942 an metabolische Stressbedingungen: Analyse des molekularbiologischen Systems eines obligat oxygen-photoautotrophen Prokaryonten', 'Projekt Link': '/gepris/projekt/18572122'}]}\n",
      "Beispiel-Print-Ausgaben:\n",
      "Lese Datei: C:/Users/lenna/Studium/wikidata/DIS18-main/python/wikidata_person_data_output/human_info1.json\n",
      "Inhalt von human_info1.json: {'Konrad Förstner': {'description': 'bioinformatician', 'qid': 'Q18744528'}, 'Anke Becker': {'description': 'German university teacher', 'qid': 'Q21253882'}}\n",
      "Lese Datei: C:/Users/lenna/Studium/wikidata/DIS18-main/python/wikidata_person_data_output/human_info2.json\n",
      "Inhalt von human_info2.json: {'Peer Bork': {'description': 'German biologist and bioinformatician', 'qid': 'Q7160367'}, 'Thomas Clavel': {'description': 'researcher', 'qid': 'Q40442760'}}\n",
      "Lese Datei: C:/Users/lenna/Studium/wikidata/DIS18-main/python/wikidata_person_data_output/human_info3.json\n",
      "Inhalt von human_info3.json: {'Alexander Goesmann': {'description': 'researcher', 'qid': 'Q52422599'}}\n",
      "Fehler beim Lesen von C:/Users/lenna/Studium/wikidata/DIS18-main/python/wikidata_person_data_output/human_info4.json: Expecting value: line 1 column 1 (char 0)\n"
     ]
    }
   ],
   "source": [
    "# Durchsucht den Ordner\n",
    "for file_name in os.listdir(folder_path):\n",
    "    if file_name.endswith('.json'):\n",
    "        full_file_path = os.path.join(folder_path, file_name)\n",
    "        print(f\"Lese Datei: {full_file_path}\")  # Debug-Ausgabe\n",
    "        with open(full_file_path, 'r', encoding='utf-8') as file:\n",
    "            try:\n",
    "                data = json.load(file)\n",
    "                print(f\"Inhalt von {file_name}: {data}\")  # Debug-Ausgabe\n",
    "                combined_data.append(data)\n",
    "            except json.JSONDecodeError as e:\n",
    "                print(f\"Fehler beim Lesen von {full_file_path}: {e}\")  # Debug-Ausgabe\n",
    "\n",
    "# Beispiel-Print-Ausgaben zur Veranschaulichung\n",
    "print(\"Beispiel-Print-Ausgaben:\")\n",
    "print(f\"Lese Datei: C:/Users/lenna/Studium/wikidata/DIS18-main/python/wikidata_person_data_output/human_info1.json\")\n",
    "print(f\"Inhalt von human_info1.json: {{'Konrad Förstner': {{'description': 'bioinformatician', 'qid': 'Q18744528'}}, 'Anke Becker': {{'description': 'German university teacher', 'qid': 'Q21253882'}}}}\")\n",
    "print(f\"Lese Datei: C:/Users/lenna/Studium/wikidata/DIS18-main/python/wikidata_person_data_output/human_info2.json\")\n",
    "print(f\"Inhalt von human_info2.json: {{'Peer Bork': {{'description': 'German biologist and bioinformatician', 'qid': 'Q7160367'}}, 'Thomas Clavel': {{'description': 'researcher', 'qid': 'Q40442760'}}}}\")\n",
    "print(f\"Lese Datei: C:/Users/lenna/Studium/wikidata/DIS18-main/python/wikidata_person_data_output/human_info3.json\")\n",
    "print(f\"Inhalt von human_info3.json: {{'Alexander Goesmann': {{'description': 'researcher', 'qid': 'Q52422599'}}}}\")\n",
    "print(f\"Fehler beim Lesen von C:/Users/lenna/Studium/wikidata/DIS18-main/python/wikidata_person_data_output/human_info4.json: Expecting value: line 1 column 1 (char 0)\")"
   ]
  },
  {
   "cell_type": "code",
   "execution_count": null,
   "metadata": {},
   "outputs": [],
   "source": []
  },
  {
   "cell_type": "code",
   "execution_count": 14,
   "metadata": {},
   "outputs": [
    {
     "name": "stdout",
     "output_type": "stream",
     "text": [
      "Alle JSON-Dateien wurden erfolgreich in 'C:/Users/lenna/Studium/wikidata/DIS18-main/combined\\combined_data.json' zusammengeführt.\n"
     ]
    }
   ],
   "source": [
    "# Kombinierte JSON-Datei speichern\n",
    "combined_file_path = os.path.join(output_folder_path, 'combined_data.json')\n",
    "with open(combined_file_path, 'w', encoding='utf-8') as combined_file:\n",
    "    json.dump(combined_data, combined_file, ensure_ascii=False, indent=4)\n",
    "\n",
    "print(f\"Alle JSON-Dateien wurden erfolgreich in '{combined_file_path}' zusammengeführt.\")"
   ]
  },
  {
   "cell_type": "code",
   "execution_count": 22,
   "metadata": {},
   "outputs": [
    {
     "name": "stdout",
     "output_type": "stream",
     "text": [
      "Die erweiterte Datei wurde in C:/Users/lenna/Studium/wikidata/DIS18-main/jsonGepris/combined_data_new.json gespeichert.\n"
     ]
    }
   ],
   "source": [
    "import json\n",
    "import os\n",
    "\n",
    "# Funktion zum Bereinigen von Namen (z.B. Entfernen von Titeln und doppelten Leerzeichen)\n",
    "def clean_name(name):\n",
    "    name = name.replace(\"Professorin\", \"\").replace(\"Professor\", \"\").replace(\"Dr.\", \"\").strip()\n",
    "    return \" \".join(name.split())\n",
    "\n",
    "# Lade die `human_info.json` Datei\n",
    "with open(human_info_path, 'r', encoding='utf-8') as file:\n",
    "    human_info = json.load(file)\n",
    "\n",
    "# Lade die `output_all_persons_names_projects_links.json` Datei\n",
    "with open(combined_file_path, 'r', encoding='utf-8') as file:\n",
    "    projects_info = json.load(file)\n",
    "\n",
    "# Erstelle ein Mapping von bereinigten Namen zu `qid`\n",
    "name_to_qid = {}\n",
    "for name, info in human_info.items():\n",
    "    clean = clean_name(name)\n",
    "    name_to_qid[clean] = info['qid']\n",
    "\n",
    "# Füge die `qid`-Informationen hinzu\n",
    "for person in projects_info:\n",
    "    clean_person_name = clean_name(person['Person Name'])\n",
    "    if clean_person_name in name_to_qid:\n",
    "        person['Q-ID'] = name_to_qid[clean_person_name]\n",
    "    else:\n",
    "        person['Q-ID'] = None  # Falls keine `qid` gefunden wurde\n",
    "\n",
    "# Speichern der erweiterten Datei\n",
    "output_file_path = 'C:/Users/lenna/Studium/wikidata/DIS18-main/jsonGepris/combined_data_new.json'\n",
    "with open(output_file_path, 'w', encoding='utf-8') as f:\n",
    "    json.dump(projects_info, f, ensure_ascii=False, indent=4)\n",
    "\n",
    "print(f\"Die erweiterte Datei wurde in {output_file_path} gespeichert.\")\n"
   ]
  },
  {
   "cell_type": "code",
   "execution_count": 24,
   "metadata": {},
   "outputs": [
    {
     "name": "stdout",
     "output_type": "stream",
     "text": [
      "Die erweiterte Datei wurde in C:/Users/lenna/Studium/wikidata/DIS18-main/jsonGepris/combined_data_new.json gespeichert.\n"
     ]
    }
   ],
   "source": [
    "import json\n",
    "\n",
    "# Funktion zum Bereinigen von Namen (z.B. Entfernen von Titeln und doppelten Leerzeichen)\n",
    "def clean_name(name):\n",
    "    name = name.replace(\"Professorin\", \"\").replace(\"Professor\", \"\").replace(\"Dr.\", \"\").strip()\n",
    "    return \" \".join(name.split())\n",
    "\n",
    "# Lade die `human_info.json` Datei\n",
    "with open(human_info_path, 'r', encoding='utf-8') as file:\n",
    "    human_info = json.load(file)\n",
    "\n",
    "# Lade die `output_all_persons_names_projects_links.json` Datei\n",
    "with open(combined_file_path, 'r', encoding='utf-8') as file:\n",
    "    projects_info = json.load(file)\n",
    "\n",
    "# Erstelle ein Mapping von bereinigten Namen zu `qid`\n",
    "name_to_qid = {}\n",
    "for name, info in human_info.items():\n",
    "    clean = clean_name(name)\n",
    "    name_to_qid[clean] = info['qid']\n",
    "\n",
    "# Füge die `qid`-Informationen hinzu und platziere sie über den Projekten\n",
    "for person in projects_info:\n",
    "    clean_person_name = clean_name(person['Person Name'])\n",
    "    if clean_person_name in name_to_qid:\n",
    "        qid = name_to_qid[clean_person_name]\n",
    "    else:\n",
    "        qid = None  # Falls keine `qid` gefunden wurde\n",
    "    \n",
    "    # Erstelle ein neues Dictionary für die Person mit `Q-ID` über den Projekten\n",
    "    new_person_info = {\n",
    "        \"Person Name\": person['Person Name'],\n",
    "        \"Q-ID\": qid,\n",
    "        \"Projekte\": person['Projekte']\n",
    "    }\n",
    "    \n",
    "    # Aktualisiere die Person-Informationen in der Liste\n",
    "    person.update(new_person_info)\n",
    "\n",
    "# Speichern der erweiterten Datei\n",
    "with open(output_file_path, 'w', encoding='utf-8') as f:\n",
    "    json.dump(projects_info, f, ensure_ascii=False, indent=4)\n",
    "\n",
    "print(f\"Die erweiterte Datei wurde in {output_file_path} gespeichert.\")\n"
   ]
  }
 ],
 "metadata": {
  "kernelspec": {
   "display_name": "Python 3 (ipykernel)",
   "language": "python",
   "name": "python3"
  },
  "language_info": {
   "codemirror_mode": {
    "name": "ipython",
    "version": 3
   },
   "file_extension": ".py",
   "mimetype": "text/x-python",
   "name": "python",
   "nbconvert_exporter": "python",
   "pygments_lexer": "ipython3",
   "version": "3.11.7"
  }
 },
 "nbformat": 4,
 "nbformat_minor": 4
}
