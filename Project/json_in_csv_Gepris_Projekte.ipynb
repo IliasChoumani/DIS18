{
 "cells": [
  {
   "cell_type": "code",
   "execution_count": 1,
   "metadata": {},
   "outputs": [
    {
     "name": "stdout",
     "output_type": "stream",
     "text": [
      "CSV-Datei 'GeprisJsonAndCsv\\output_all_persons_names_projects_links.csv' erfolgreich erstellt!\n",
      "CSV-Datei 'GeprisJsonAndCsv\\Professor-Dr-Alexander-GoesmannGepris.csv' erfolgreich erstellt!\n",
      "CSV-Datei 'GeprisJsonAndCsv\\Professor-Dr-Konrad-FörstnerGepris.csv' erfolgreich erstellt!\n",
      "CSV-Datei 'GeprisJsonAndCsv\\Professor-Dr-Peer-BorkGepris.csv' erfolgreich erstellt!\n",
      "CSV-Datei 'GeprisJsonAndCsv\\Professor-Dr-Thomas-ClavelGepris.csv' erfolgreich erstellt!\n",
      "CSV-Datei 'GeprisJsonAndCsv\\Professorin-Dr-Anke-BeckerGepris.csv' erfolgreich erstellt!\n"
     ]
    }
   ],
   "source": [
    "import csv\n",
    "import json\n",
    "import os\n",
    "\n",
    "def json_to_csv(json_file):\n",
    "    # JSON-Daten laden\n",
    "    with open(json_file, encoding='utf-8') as file:\n",
    "        data = json.load(file)\n",
    "    \n",
    "    # Überprüfen, ob data eine Liste oder ein Dictionary ist\n",
    "    if isinstance(data, list):\n",
    "        # Falls data eine Liste ist\n",
    "        # Verarbeite jedes Dictionary in der Liste\n",
    "        items = data\n",
    "    elif isinstance(data, dict):\n",
    "        # Falls data ein Dictionary ist\n",
    "        # Setze items auf den Wert des Schlüssels 'Projekte'\n",
    "        items = [data]\n",
    "    else:\n",
    "        raise ValueError(\"Unbekannte Datenstruktur in der JSON-Datei\")\n",
    "\n",
    "    # Bestimme den Dateinamen für die CSV-Datei\n",
    "    csv_filename = os.path.join(os.path.dirname(json_file), os.path.splitext(os.path.basename(json_file))[0] + '.csv')\n",
    "\n",
    "    # CSV-Datei zum Schreiben öffnen\n",
    "    with open(csv_filename, mode='w', newline='', encoding='utf-8') as csv_file:\n",
    "        fieldnames = ['Person Name', 'Projekt Name', 'Projekt Link']\n",
    "        writer = csv.DictWriter(csv_file, fieldnames=fieldnames)\n",
    "\n",
    "        writer.writeheader()\n",
    "\n",
    "        # Durch die Liste der Items iterieren\n",
    "        for item in items:\n",
    "            person_name = item.get('Person Name')\n",
    "            projekte = item.get('Projekte', [])\n",
    "            for projekt in projekte:\n",
    "                writer.writerow({\n",
    "                    'Person Name': person_name,\n",
    "                    'Projekt Name': projekt.get('Projekt Name'),\n",
    "                    'Projekt Link': projekt.get('Projekt Link')\n",
    "                })\n",
    "\n",
    "    print(f\"CSV-Datei '{csv_filename}' erfolgreich erstellt!\")\n",
    "\n",
    "# Verzeichnis, das die JSON-Dateien enthält\n",
    "json_dir = os.path.join(\"GeprisJsonAndCsv\")  # Pfad zum Verzeichnis der JSON-Dateien\n",
    "\n",
    "# Liste der JSON-Dateien im angegebenen Verzeichnis erstellen\n",
    "json_files = [os.path.join(json_dir, f) for f in os.listdir(json_dir) if f.endswith('.json')]\n",
    "\n",
    "# JSON-Dateien in CSV konvertieren\n",
    "for file in json_files:\n",
    "    json_to_csv(file)\n"
   ]
  },
  {
   "cell_type": "code",
   "execution_count": null,
   "metadata": {},
   "outputs": [],
   "source": []
  }
 ],
 "metadata": {
  "kernelspec": {
   "display_name": "Python 3",
   "language": "python",
   "name": "python3"
  },
  "language_info": {
   "codemirror_mode": {
    "name": "ipython",
    "version": 3
   },
   "file_extension": ".py",
   "mimetype": "text/x-python",
   "name": "python",
   "nbconvert_exporter": "python",
   "pygments_lexer": "ipython3",
   "version": "3.8.5"
  }
 },
 "nbformat": 4,
 "nbformat_minor": 4
}
