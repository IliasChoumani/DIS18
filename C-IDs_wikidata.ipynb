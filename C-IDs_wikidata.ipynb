{
 "cells": [
  {
   "cell_type": "markdown",
   "id": "2387fd1d",
   "metadata": {},
   "source": [
    "## Ermittlung der Q-ID von Wikidata mit Hilfe einer Liste mit den Namen"
   ]
  },
  {
   "cell_type": "code",
   "execution_count": 2,
   "id": "dd71fa9e",
   "metadata": {},
   "outputs": [
    {
     "name": "stdout",
     "output_type": "stream",
     "text": [
      "Q-ID for Konrad Förstner: Q18744528\n",
      "Q-ID for Konrad Förstner: Q123265818\n",
      "Q-ID for Konrad Förstner: Q110684366\n",
      "Q-ID for Konrad Förstner: Q112148361\n",
      "Q-ID for Konrad Förstner: Q93222062\n",
      "Q-ID for Konrad Förstner: Q114381682\n",
      "Q-ID for Konrad Förstner: Q24490214\n",
      "Q-ID for Konrad Förstner: Q22951230\n",
      "Q-ID for Konrad Förstner: Q110962108\n",
      "Q-ID for Konrad Förstner: Q110962107\n"
     ]
    }
   ],
   "source": [
    "import requests\n",
    "\n",
    "search_term = \"Konrad Förstner\"\n",
    "api_url = f\"https://www.wikidata.org/w/api.php?action=query&format=json&list=search&srsearch={search_term}\"\n",
    "\n",
    "response = requests.get(api_url)\n",
    "data = response.json()\n",
    "\n",
    "if \"search\" in data[\"query\"]:\n",
    "    for result in data[\"query\"][\"search\"]:\n",
    "        q_id = result[\"title\"]\n",
    "        print(f\"Q-ID for {search_term}: {q_id}\")"
   ]
  },
  {
   "cell_type": "code",
   "execution_count": null,
   "id": "2d09aace",
   "metadata": {},
   "outputs": [],
   "source": []
  }
 ],
 "metadata": {
  "kernelspec": {
   "display_name": "Python 3 (ipykernel)",
   "language": "python",
   "name": "python3"
  },
  "language_info": {
   "codemirror_mode": {
    "name": "ipython",
    "version": 3
   },
   "file_extension": ".py",
   "mimetype": "text/x-python",
   "name": "python",
   "nbconvert_exporter": "python",
   "pygments_lexer": "ipython3",
   "version": "3.11.5"
  }
 },
 "nbformat": 4,
 "nbformat_minor": 5
}
