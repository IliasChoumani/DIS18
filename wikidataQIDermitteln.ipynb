{
 "cells": [
  {
   "cell_type": "code",
   "execution_count": 8,
   "metadata": {},
   "outputs": [
    {
     "name": "stdout",
     "output_type": "stream",
     "text": [
      "Q-ID for Konrad Förstner: Q18744528\n",
      "Q-ID for Konrad Förstner: Q123265818\n",
      "Q-ID for Konrad Förstner: Q112148361\n",
      "Q-ID for Konrad Förstner: Q110684366\n",
      "Q-ID for Konrad Förstner: Q93222062\n",
      "Q-ID for Konrad Förstner: Q114381682\n",
      "Q-ID for Konrad Förstner: Q24490214\n",
      "Q-ID for Konrad Förstner: Q22951230\n",
      "Q-ID for Konrad Förstner: Q110962107\n",
      "Q-ID for Konrad Förstner: Q110962108\n",
      "List of QIDs:\n",
      "['Q18744528', 'Q123265818', 'Q112148361', 'Q110684366', 'Q93222062', 'Q114381682', 'Q24490214', 'Q22951230', 'Q110962107', 'Q110962108']\n"
     ]
    }
   ],
   "source": [
    "import requests\n",
    "\n",
    "search_term = \"Konrad Förstner\"\n",
    "api_url = f\"https://www.wikidata.org/w/api.php?action=query&format=json&list=search&srsearch={search_term}\"\n",
    "\n",
    "response = requests.get(api_url)\n",
    "data = response.json()\n",
    "\n",
    "qids_list = []  # Liste zur Speicherung der QIDs\n",
    "\n",
    "if \"search\" in data[\"query\"]:\n",
    "    for result in data[\"query\"][\"search\"]:\n",
    "        q_id = result[\"title\"]\n",
    "        qids_list.append(q_id)  # Füge die QID zur Liste hinzu\n",
    "        print(f\"Q-ID for {search_term}: {q_id}\")\n",
    "\n",
    "print(\"List of QIDs:\")\n",
    "print(qids_list)\n"
   ]
  },
  {
   "cell_type": "code",
   "execution_count": 9,
   "metadata": {},
   "outputs": [
    {
     "name": "stdout",
     "output_type": "stream",
     "text": [
      "Q-ID for Anke Becker: Q21253882\n",
      "Q-ID for Anke Becker: Q124022504\n",
      "Q-ID for Anke Becker: Q124413921\n",
      "Q-ID for Anke Becker: Q123857269\n",
      "Q-ID for Anke Becker: Q98704635\n",
      "Q-ID for Anke Becker: Q59319573\n",
      "Q-ID for Anke Becker: Q62724364\n",
      "Q-ID for Anke Becker: Q21093388\n",
      "Q-ID for Anke Becker: Q64448970\n",
      "Q-ID for Anke Becker: Q58589847\n",
      "List of QIDs:\n",
      "['Q21253882', 'Q124022504', 'Q124413921', 'Q123857269', 'Q98704635', 'Q59319573', 'Q62724364', 'Q21093388', 'Q64448970', 'Q58589847']\n"
     ]
    }
   ],
   "source": [
    "import requests\n",
    "\n",
    "search_term = \"Anke Becker\"\n",
    "api_url = f\"https://www.wikidata.org/w/api.php?action=query&format=json&list=search&srsearch={search_term}\"\n",
    "\n",
    "response = requests.get(api_url)\n",
    "data = response.json()\n",
    "\n",
    "qids_list = []  # Liste zur Speicherung der QIDs\n",
    "\n",
    "if \"query\" in data and \"search\" in data[\"query\"]:\n",
    "    for result in data[\"query\"][\"search\"]:\n",
    "        q_id = result[\"title\"]\n",
    "        qids_list.append(q_id)  # Füge die QID zur Liste hinzu\n",
    "        print(f\"Q-ID for {search_term}: {q_id}\")\n",
    "\n",
    "# Ausgabe der Liste mit QIDs\n",
    "print(\"List of QIDs:\")\n",
    "print(qids_list)\n"
   ]
  },
  {
   "cell_type": "code",
   "execution_count": 7,
   "metadata": {},
   "outputs": [
    {
     "name": "stdout",
     "output_type": "stream",
     "text": [
      "Der Wikidata-Eintrag Q21253882 repräsentiert einen Menschen.\n"
     ]
    }
   ],
   "source": [
    "import requests\n",
    "\n",
    "# QID des Wikidata-Eintrags, den du überprüfen möchtest\n",
    "qid_to_check = \"Q21253882\"\n",
    "\n",
    "# API-URL, um die Daten des Wikidata-Eintrags abzurufen\n",
    "api_url = f\"https://www.wikidata.org/wiki/Special:EntityData/{qid_to_check}.json\"\n",
    "\n",
    "try:\n",
    "    # HTTP-Anfrage, um die JSON-Daten des Wikidata-Eintrags abzurufen\n",
    "    response = requests.get(api_url)\n",
    "    if response.status_code == 200:\n",
    "        entity_data = response.json()\n",
    "\n",
    "        # Überprüfe, ob der Eintrag eine Instanz der Klasse \"Mensch\" (Q5) ist\n",
    "        if \"entities\" in entity_data and qid_to_check in entity_data[\"entities\"]:\n",
    "            instance_of_claims = entity_data[\"entities\"][qid_to_check][\"claims\"].get(\"P31\", [])\n",
    "            for claim in instance_of_claims:\n",
    "                if claim[\"mainsnak\"][\"datavalue\"][\"value\"][\"id\"] == \"Q5\":\n",
    "                    print(f\"Der Wikidata-Eintrag {qid_to_check} repräsentiert einen Menschen.\")\n",
    "                    break\n",
    "            else:\n",
    "                print(f\"Der Wikidata-Eintrag {qid_to_check} repräsentiert keine Person (Mensch).\")\n",
    "        else:\n",
    "            print(f\"Der Wikidata-Eintrag {qid_to_check} wurde nicht gefunden oder enthält keine Daten.\")\n",
    "\n",
    "    else:\n",
    "        print(f\"Fehler bei der HTTP-Anfrage: Statuscode {response.status_code}\")\n",
    "\n",
    "except requests.exceptions.RequestException as e:\n",
    "    print(f\"Fehler bei der HTTP-Anfrage: {e}\")\n",
    "except KeyError as e:\n",
    "    print(f\"Unerwarteter JSON-Formatfehler: {e}\")\n",
    "except Exception as e:\n",
    "    print(f\"Allgemeiner Fehler: {e}\")\n"
   ]
  },
  {
   "cell_type": "code",
   "execution_count": null,
   "metadata": {},
   "outputs": [],
   "source": []
  }
 ],
 "metadata": {
  "kernelspec": {
   "display_name": "Python 3",
   "language": "python",
   "name": "python3"
  },
  "language_info": {
   "codemirror_mode": {
    "name": "ipython",
    "version": 3
   },
   "file_extension": ".py",
   "mimetype": "text/x-python",
   "name": "python",
   "nbconvert_exporter": "python",
   "pygments_lexer": "ipython3",
   "version": "3.8.5"
  }
 },
 "nbformat": 4,
 "nbformat_minor": 4
}
