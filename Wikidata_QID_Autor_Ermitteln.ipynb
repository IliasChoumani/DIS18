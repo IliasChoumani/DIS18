{
 "cells": [
  {
   "cell_type": "markdown",
   "metadata": {},
   "source": [
    "Wir haben das Problem, dass wenn man in Wikidata nach den Autorennamen sucht, man mehrere Einträge mit unterschiedlichen QIDs erhält. Wir möchten den eintrag des Autors finden und diesem die GEPRIS Projekte hinzufügen. Wenn man beispielsweise nach dem Namen Konrad Förstner sucht sind die ersten beiden Einträge: Konrad Förstner, QID: Q18744528 und Förstner Research Group, QID: Q123265818. Der erste Eintrag ist unsere gesuchte Person, während der zweite eintrag keine Person darstellt.   \n",
    "  Daher möchten wir eine Automatisierte abfrage gestallten, welche uns Informationen zu den jeweiligen Entitäten gibt, sodass wir die richte auswählen können um dieser dann die Projekte hinzuzufügen."
   ]
  },
  {
   "cell_type": "markdown",
   "metadata": {},
   "source": [
    "## ein Beispiel alle QIDs des Suchbegriffs \"Konrad Förstner\" ermitteln"
   ]
  },
  {
   "cell_type": "code",
   "execution_count": 1,
   "metadata": {},
   "outputs": [],
   "source": [
    "import requests"
   ]
  },
  {
   "cell_type": "code",
   "execution_count": 2,
   "metadata": {},
   "outputs": [
    {
     "name": "stdout",
     "output_type": "stream",
     "text": [
      "Q-ID for Konrad Förstner: Q18744528\n",
      "Q-ID for Konrad Förstner: Q123265818\n",
      "Q-ID for Konrad Förstner: Q112148361\n",
      "Q-ID for Konrad Förstner: Q110684366\n",
      "Q-ID for Konrad Förstner: Q93222062\n",
      "Q-ID for Konrad Förstner: Q114381682\n",
      "Q-ID for Konrad Förstner: Q24490214\n",
      "Q-ID for Konrad Förstner: Q22951230\n",
      "Q-ID for Konrad Förstner: Q110962108\n",
      "Q-ID for Konrad Förstner: Q110962107\n",
      "List of QIDs:\n",
      "['Q18744528', 'Q123265818', 'Q112148361', 'Q110684366', 'Q93222062', 'Q114381682', 'Q24490214', 'Q22951230', 'Q110962108', 'Q110962107']\n"
     ]
    }
   ],
   "source": [
    "search_term = \"Konrad Förstner\"\n",
    "api_url = f\"https://www.wikidata.org/w/api.php?action=query&format=json&list=search&srsearch={search_term}\"\n",
    "\n",
    "response = requests.get(api_url)\n",
    "data = response.json()\n",
    "\n",
    "qids_list = []  # Liste zur Speicherung der QIDs\n",
    "\n",
    "if \"query\" in data and \"search\" in data[\"query\"]:\n",
    "    for result in data[\"query\"][\"search\"]:\n",
    "        q_id = result[\"title\"]\n",
    "        qids_list.append(q_id)  # Füge die QID zur Liste hinzu\n",
    "        print(f\"Q-ID for {search_term}: {q_id}\")\n",
    "\n",
    "# Ausgabe der Liste mit QIDs\n",
    "print(\"List of QIDs:\")\n",
    "print(qids_list)"
   ]
  },
  {
   "cell_type": "markdown",
   "metadata": {},
   "source": [
    "## Ermitteln ob der jeweilige Eintrag einen Menschen Repräsentiert"
   ]
  },
  {
   "cell_type": "code",
   "execution_count": 3,
   "metadata": {},
   "outputs": [
    {
     "name": "stdout",
     "output_type": "stream",
     "text": [
      "Der Wikidata-Eintrag Q18744528 repräsentiert einen Menschen.\n",
      "Der Wikidata-Eintrag Q123265818 repräsentiert keine Person (Mensch).\n",
      "Der Wikidata-Eintrag Q112148361 repräsentiert keine Person (Mensch).\n",
      "Der Wikidata-Eintrag Q110684366 repräsentiert keine Person (Mensch).\n",
      "Der Wikidata-Eintrag Q93222062 repräsentiert keine Person (Mensch).\n",
      "Der Wikidata-Eintrag Q114381682 repräsentiert keine Person (Mensch).\n",
      "Der Wikidata-Eintrag Q24490214 repräsentiert keine Person (Mensch).\n",
      "Der Wikidata-Eintrag Q22951230 repräsentiert keine Person (Mensch).\n",
      "Der Wikidata-Eintrag Q110962108 repräsentiert keine Person (Mensch).\n",
      "Der Wikidata-Eintrag Q110962107 repräsentiert keine Person (Mensch).\n"
     ]
    }
   ],
   "source": [
    "for qid_to_check in qids_list:\n",
    "    api_url = f\"https://www.wikidata.org/wiki/Special:EntityData/{qid_to_check}.json\"\n",
    "\n",
    "    try:\n",
    "        # HTTP-Anfrage, um die JSON-Daten des Wikidata-Eintrags abzurufen\n",
    "        response = requests.get(api_url)\n",
    "        if response.status_code == 200:\n",
    "            entity_data = response.json()\n",
    "\n",
    "            # Überprüfe, ob der Eintrag eine Instanz der Klasse \"Mensch\" (Q5) ist\n",
    "            if \"entities\" in entity_data and qid_to_check in entity_data[\"entities\"]:\n",
    "                instance_of_claims = entity_data[\"entities\"][qid_to_check][\"claims\"].get(\"P31\", [])\n",
    "                is_human = any(claim[\"mainsnak\"][\"datavalue\"][\"value\"][\"id\"] == \"Q5\" for claim in instance_of_claims)\n",
    "                \n",
    "                if is_human:\n",
    "                    print(f\"Der Wikidata-Eintrag {qid_to_check} repräsentiert einen Menschen.\")\n",
    "                else:\n",
    "                    print(f\"Der Wikidata-Eintrag {qid_to_check} repräsentiert keine Person (Mensch).\")\n",
    "            else:\n",
    "                print(f\"Der Wikidata-Eintrag {qid_to_check} wurde nicht gefunden oder enthält keine Daten.\")\n",
    "\n",
    "        else:\n",
    "            print(f\"Fehler bei der HTTP-Anfrage für {qid_to_check}: Statuscode {response.status_code}\")\n",
    "\n",
    "    except requests.exceptions.RequestException as e:\n",
    "        print(f\"Fehler bei der HTTP-Anfrage für {qid_to_check}: {e}\")\n",
    "    except KeyError as e:\n",
    "        print(f\"Unerwarteter JSON-Formatfehler für {qid_to_check}: {e}\")\n",
    "    except Exception as e:\n",
    "        print(f\"Allgemeiner Fehler für {qid_to_check}: {e}\")"
   ]
  },
  {
   "cell_type": "markdown",
   "metadata": {},
   "source": [
    "## Beispiel mit suchbegriff \"Anke Becker\""
   ]
  },
  {
   "cell_type": "code",
   "execution_count": 4,
   "metadata": {},
   "outputs": [
    {
     "name": "stdout",
     "output_type": "stream",
     "text": [
      "Q-ID for Anke Becker: Q21253882\n",
      "Q-ID for Anke Becker: Q124022504\n",
      "Q-ID for Anke Becker: Q124413921\n",
      "Q-ID for Anke Becker: Q123857269\n",
      "Q-ID for Anke Becker: Q98704635\n",
      "Q-ID for Anke Becker: Q59319573\n",
      "Q-ID for Anke Becker: Q62724364\n",
      "Q-ID for Anke Becker: Q21093388\n",
      "Q-ID for Anke Becker: Q64448970\n",
      "Q-ID for Anke Becker: Q58589847\n",
      "List of QIDs:\n",
      "['Q21253882', 'Q124022504', 'Q124413921', 'Q123857269', 'Q98704635', 'Q59319573', 'Q62724364', 'Q21093388', 'Q64448970', 'Q58589847']\n"
     ]
    }
   ],
   "source": [
    "search_term = \"Anke Becker\"\n",
    "api_url = f\"https://www.wikidata.org/w/api.php?action=query&format=json&list=search&srsearch={search_term}\"\n",
    "\n",
    "response = requests.get(api_url)\n",
    "data = response.json()\n",
    "\n",
    "qids_list = []  # Liste zur Speicherung der QIDs\n",
    "\n",
    "if \"query\" in data and \"search\" in data[\"query\"]:\n",
    "    for result in data[\"query\"][\"search\"]:\n",
    "        q_id = result[\"title\"]\n",
    "        qids_list.append(q_id)  # Füge die QID zur Liste hinzu\n",
    "        print(f\"Q-ID for {search_term}: {q_id}\")\n",
    "\n",
    "# Ausgabe der Liste mit QIDs\n",
    "print(\"List of QIDs:\")\n",
    "print(qids_list)"
   ]
  },
  {
   "cell_type": "code",
   "execution_count": 5,
   "metadata": {},
   "outputs": [
    {
     "name": "stdout",
     "output_type": "stream",
     "text": [
      "Der Wikidata-Eintrag Q21253882 repräsentiert einen Menschen.\n",
      "Der Wikidata-Eintrag Q124022504 repräsentiert einen Menschen.\n",
      "Der Wikidata-Eintrag Q124413921 repräsentiert einen Menschen.\n",
      "Der Wikidata-Eintrag Q123857269 repräsentiert keine Person (Mensch).\n",
      "Der Wikidata-Eintrag Q98704635 repräsentiert keine Person (Mensch).\n",
      "Der Wikidata-Eintrag Q59319573 repräsentiert keine Person (Mensch).\n",
      "Der Wikidata-Eintrag Q62724364 repräsentiert keine Person (Mensch).\n",
      "Der Wikidata-Eintrag Q21093388 repräsentiert keine Person (Mensch).\n",
      "Der Wikidata-Eintrag Q64448970 repräsentiert keine Person (Mensch).\n",
      "Der Wikidata-Eintrag Q58589847 repräsentiert keine Person (Mensch).\n"
     ]
    }
   ],
   "source": [
    "for qid_to_check in qids_list:\n",
    "    api_url = f\"https://www.wikidata.org/wiki/Special:EntityData/{qid_to_check}.json\"\n",
    "\n",
    "    try:\n",
    "        # HTTP-Anfrage, um die JSON-Daten des Wikidata-Eintrags abzurufen\n",
    "        response = requests.get(api_url)\n",
    "        if response.status_code == 200:\n",
    "            entity_data = response.json()\n",
    "\n",
    "            # Überprüfe, ob der Eintrag eine Instanz der Klasse \"Mensch\" (Q5) ist\n",
    "            if \"entities\" in entity_data and qid_to_check in entity_data[\"entities\"]:\n",
    "                instance_of_claims = entity_data[\"entities\"][qid_to_check][\"claims\"].get(\"P31\", [])\n",
    "                is_human = any(claim[\"mainsnak\"][\"datavalue\"][\"value\"][\"id\"] == \"Q5\" for claim in instance_of_claims)\n",
    "                \n",
    "                if is_human:\n",
    "                    print(f\"Der Wikidata-Eintrag {qid_to_check} repräsentiert einen Menschen.\")\n",
    "                else:\n",
    "                    print(f\"Der Wikidata-Eintrag {qid_to_check} repräsentiert keine Person (Mensch).\")\n",
    "            else:\n",
    "                print(f\"Der Wikidata-Eintrag {qid_to_check} wurde nicht gefunden oder enthält keine Daten.\")\n",
    "\n",
    "        else:\n",
    "            print(f\"Fehler bei der HTTP-Anfrage für {qid_to_check}: Statuscode {response.status_code}\")\n",
    "\n",
    "    except requests.exceptions.RequestException as e:\n",
    "        print(f\"Fehler bei der HTTP-Anfrage für {qid_to_check}: {e}\")\n",
    "    except KeyError as e:\n",
    "        print(f\"Unerwarteter JSON-Formatfehler für {qid_to_check}: {e}\")\n",
    "    except Exception as e:\n",
    "        print(f\"Allgemeiner Fehler für {qid_to_check}: {e}\")"
   ]
  },
  {
   "cell_type": "markdown",
   "metadata": {},
   "source": [
    "## Auswahl zwischen den einträgen welche Menschen Repsäsentieren und erstellen eines Dictonarys zum gewählen Eintrag (Beispeil Anke Becker)"
   ]
  },
  {
   "cell_type": "code",
   "execution_count": 6,
   "metadata": {},
   "outputs": [
    {
     "name": "stdout",
     "output_type": "stream",
     "text": [
      "Wähle einen Eintrag aus der Liste:\n",
      "1. Anke Becker (German university teacher)\n",
      "2. Anke Becker (German visual artist)\n",
      "3. Anke Becker (faculty at Harvard Business School)\n",
      "Gib die Nummer des gewünschten Eintrags ein (oder '0', um abzubrechen): 1\n",
      "Gewählter Eintrag:\n",
      "{'label': 'Anke Becker', 'description': 'German university teacher', 'qid': 'Q21253882'}\n"
     ]
    }
   ],
   "source": [
    "def choose_entry(entries):\n",
    "    # Funktion zur Auswahl eines Eintrags aus der Liste anhand der Benutzereingabe\n",
    "    if not entries:\n",
    "        return None  # Rückgabe von None, wenn die Liste leer ist\n",
    "    \n",
    "    print(\"Wähle einen Eintrag aus der Liste:\")\n",
    "    for i, entry in enumerate(entries):\n",
    "        print(f\"{i + 1}. {entry['label']} ({entry['description']})\")\n",
    "\n",
    "    choice = input(\"Gib die Nummer des gewünschten Eintrags ein (oder '0', um abzubrechen): \")\n",
    "    try:\n",
    "        index = int(choice) - 1\n",
    "        if 0 <= index < len(entries):\n",
    "            return entries[index]\n",
    "        elif index == -1:\n",
    "            return None  # Abbruch\n",
    "        else:\n",
    "            print(\"Ungültige Eingabe. Bitte gib eine gültige Nummer ein.\")\n",
    "            return choose_entry(entries)\n",
    "    except ValueError:\n",
    "        print(\"Ungültige Eingabe. Bitte gib eine gültige Nummer ein.\")\n",
    "        return choose_entry(entries)\n",
    "\n",
    "search_term = \"Anke Becker\"\n",
    "api_url = f\"https://www.wikidata.org/w/api.php?action=query&format=json&list=search&srsearch={search_term}\"\n",
    "\n",
    "response = requests.get(api_url)\n",
    "data = response.json()\n",
    "\n",
    "# Liste zur Speicherung von Informationen zu Menschen mit demselben Label\n",
    "human_info_list = []\n",
    "\n",
    "if \"query\" in data and \"search\" in data[\"query\"]:\n",
    "    for result in data[\"query\"][\"search\"]:\n",
    "        q_id = result[\"title\"]\n",
    "        \n",
    "        # API-Anfrage, um die JSON-Daten des Wikidata-Eintrags abzurufen\n",
    "        entity_url = f\"https://www.wikidata.org/wiki/Special:EntityData/{q_id}.json\"\n",
    "        entity_response = requests.get(entity_url)\n",
    "        entity_data = entity_response.json()\n",
    "        \n",
    "        # Überprüfe, ob der Eintrag eine Instanz der Klasse \"Mensch\" (Q5) ist\n",
    "        if \"entities\" in entity_data and q_id in entity_data[\"entities\"]:\n",
    "            instance_of_claims = entity_data[\"entities\"][q_id][\"claims\"].get(\"P31\", [])\n",
    "            is_human = any(claim[\"mainsnak\"][\"datavalue\"][\"value\"][\"id\"] == \"Q5\" for claim in instance_of_claims)\n",
    "            \n",
    "            if is_human:\n",
    "                label = entity_data[\"entities\"][q_id][\"labels\"][\"en\"][\"value\"]\n",
    "                description = entity_data[\"entities\"][q_id][\"descriptions\"][\"en\"][\"value\"]\n",
    "                \n",
    "                # Speichere die Informationen in einem Dictionary\n",
    "                human_info = {\n",
    "                    'label': label,\n",
    "                    'description': description,\n",
    "                    'qid': q_id\n",
    "                }\n",
    "                \n",
    "                # Füge das Dictionary zur Liste hinzu\n",
    "                human_info_list.append(human_info)\n",
    "\n",
    "# Auswahl eines Eintrags aus der Liste (interaktiv)\n",
    "chosen_entry = choose_entry(human_info_list)\n",
    "\n",
    "# Ausgabe des ausgewählten Eintrags\n",
    "if chosen_entry:\n",
    "    print(\"Gewählter Eintrag:\")\n",
    "    print(chosen_entry)\n",
    "else:\n",
    "    print(\"Kein Eintrag ausgewählt oder Liste ist leer.\")"
   ]
  },
  {
   "cell_type": "markdown",
   "metadata": {},
   "source": [
    "#### Nun erstellen wir ein Programm, welches nach Personen in Wikidata anhand der angegebenen Suchbegriffe Sucht. Er extrahiert QIDs für die gefundenen Einträge, überprüft, ob die Einträge Personen repräsentieren. Wenn die einträge Personen Repräsentieren können wir per Input Statement angeben welche Person die richtige ist und es werden relevante Informationen über diese Person in einem Dictionary gespeichert. Schließlich gibt er die gesammelten Informationen über die Personen aus."
   ]
  },
  {
   "cell_type": "code",
   "execution_count": 7,
   "metadata": {},
   "outputs": [
    {
     "name": "stdout",
     "output_type": "stream",
     "text": [
      "Mehrere Einträge gefunden für 'Konrad Förstner'. Bitte wählen Sie eine QID aus:\n",
      "1: QID: Q18744528, Label: Konrad Förstner, Beschreibung: bioinformatician\n",
      "Geben Sie die Nummer der gewünschten QID ein: 1\n",
      "Mehrere Einträge gefunden für 'Anke Becker'. Bitte wählen Sie eine QID aus:\n",
      "1: QID: Q21253882, Label: Anke Becker, Beschreibung: German university teacher\n",
      "2: QID: Q124022504, Label: Anke Becker, Beschreibung: German visual artist\n",
      "3: QID: Q124413921, Label: Anke Becker, Beschreibung: faculty at Harvard Business School\n",
      "Geben Sie die Nummer der gewünschten QID ein: 1\n",
      "Mehrere Einträge gefunden für 'Peer Bork'. Bitte wählen Sie eine QID aus:\n",
      "1: QID: Q7160367, Label: Peer Bork, Beschreibung: German biologist and bioinformatician\n",
      "Geben Sie die Nummer der gewünschten QID ein: 1\n",
      "Mehrere Einträge gefunden für 'Thomas Clavel'. Bitte wählen Sie eine QID aus:\n",
      "1: QID: Q40442760, Label: Thomas Clavel, Beschreibung: researcher\n",
      "2: QID: Q96748697, Label: Thomas Clavel, Beschreibung: French writer\n",
      "Geben Sie die Nummer der gewünschten QID ein: 1\n",
      "Mehrere Einträge gefunden für 'Alexander Goesmann'. Bitte wählen Sie eine QID aus:\n",
      "1: QID: Q52422599, Label: Alexander Goesmann, Beschreibung: researcher\n",
      "Geben Sie die Nummer der gewünschten QID ein: 1\n",
      "Dictionary mit Informationen zu Menschen:\n",
      "Name: Konrad Förstner, Beschreibung: bioinformatician, QID: Q18744528\n",
      "Name: Anke Becker, Beschreibung: German university teacher, QID: Q21253882\n",
      "Name: Peer Bork, Beschreibung: German biologist and bioinformatician, QID: Q7160367\n",
      "Name: Thomas Clavel, Beschreibung: researcher, QID: Q40442760\n",
      "Name: Alexander Goesmann, Beschreibung: researcher, QID: Q52422599\n"
     ]
    }
   ],
   "source": [
    "# Liste von Suchbegriffen, für die die Wikidata-Einträge überprüft werden sollen\n",
    "search_terms = [\"Konrad Förstner\", \"Anke Becker\", \"Peer Bork\", \"Thomas Clavel\", \"Alexander Goesmann\"]\n",
    "\n",
    "# Dictionary zur Speicherung von Informationen zu Menschen\n",
    "human_info_dict = {}\n",
    "\n",
    "# Funktion zur Auswahl einer QID bei mehreren Ergebnissen für denselben Suchbegriff\n",
    "def choose_qid(qid_options, name):\n",
    "    if len(qid_options) == 1:\n",
    "        chosen_qid = qid_options[0]\n",
    "        print(f\"Nur ein Eintrag gefunden für '{name}': QID: {chosen_qid}\")\n",
    "        return chosen_qid\n",
    "    else:\n",
    "        print(f\"Mehrere Einträge gefunden für '{name}'. Bitte wählen Sie eine QID aus:\")\n",
    "        valid_entries = []\n",
    "        for idx, qid in enumerate(qid_options):\n",
    "            entity_url = f\"https://www.wikidata.org/wiki/Special:EntityData/{qid}.json\"\n",
    "            try:\n",
    "                response = requests.get(entity_url)\n",
    "                entity_data = response.json()\n",
    "                if \"entities\" in entity_data and qid in entity_data[\"entities\"]:\n",
    "                    entity_info = entity_data[\"entities\"][qid]\n",
    "                    label = entity_info.get('labels', {}).get('en', {}).get('value', 'N/A')\n",
    "                    description = entity_info.get('descriptions', {}).get('en', {}).get('value', 'N/A')\n",
    "                    instance_of_claims = entity_info[\"claims\"].get(\"P31\", [])\n",
    "                    is_human = any(claim[\"mainsnak\"][\"datavalue\"][\"value\"][\"id\"] == \"Q5\" for claim in instance_of_claims)\n",
    "                    if is_human:\n",
    "                        valid_entries.append({\n",
    "                            'qid': qid,\n",
    "                            'label': label,\n",
    "                            'description': description\n",
    "                        })\n",
    "                        print(f\"{idx + 1}: QID: {qid}, Label: {label}, Beschreibung: {description}\")\n",
    "            except requests.exceptions.RequestException as e:\n",
    "                print(f\"Fehler bei der Abfrage für {qid}: {e}\")\n",
    "\n",
    "        while True:\n",
    "            choice = input(\"Geben Sie die Nummer der gewünschten QID ein: \")\n",
    "            try:\n",
    "                index = int(choice) - 1\n",
    "                if 0 <= index < len(valid_entries):\n",
    "                    return valid_entries[index]['qid']\n",
    "                else:\n",
    "                    print(\"Ungültige Eingabe. Bitte wählen Sie eine der angezeigten Optionen.\")\n",
    "            except ValueError:\n",
    "                print(\"Ungültige Eingabe. Bitte geben Sie eine Zahl ein.\")\n",
    "\n",
    "# Durchlauf der Suchbegriffe\n",
    "for search_term in search_terms:\n",
    "    api_url = f\"https://www.wikidata.org/w/api.php?action=query&format=json&list=search&srsearch={search_term}\"\n",
    "\n",
    "    try:\n",
    "        # HTTP-Anfrage, um die Suchergebnisse von Wikidata abzurufen\n",
    "        response = requests.get(api_url)\n",
    "        data = response.json()\n",
    "\n",
    "        # Überprüfen der Ergebnisse und Extrahieren der QIDs\n",
    "        if \"query\" in data and \"search\" in data[\"query\"]:\n",
    "            qids_options = []\n",
    "            for result in data[\"query\"][\"search\"]:\n",
    "                q_id = result[\"title\"]\n",
    "                qids_options.append(q_id)\n",
    "\n",
    "            # Auswahl einer QID, falls mehrere Optionen vorhanden sind\n",
    "            if len(qids_options) > 0:\n",
    "                chosen_qid = choose_qid(qids_options, search_term)\n",
    "\n",
    "                # API-Anfrage, um die JSON-Daten des Wikidata-Eintrags abzurufen\n",
    "                entity_url = f\"https://www.wikidata.org/wiki/Special:EntityData/{chosen_qid}.json\"\n",
    "                entity_response = requests.get(entity_url)\n",
    "                entity_data = entity_response.json()\n",
    "\n",
    "                # Überprüfen, ob der Eintrag eine Instanz der Klasse \"Mensch\" (Q5) ist\n",
    "                if \"entities\" in entity_data and chosen_qid in entity_data[\"entities\"]:\n",
    "                    entity_info = entity_data[\"entities\"][chosen_qid]\n",
    "\n",
    "                    # Überprüfen, ob der Eintrag einen Menschen repräsentiert\n",
    "                    instance_of_claims = entity_info[\"claims\"].get(\"P31\", [])\n",
    "                    is_human = any(claim[\"mainsnak\"][\"datavalue\"][\"value\"][\"id\"] == \"Q5\" for claim in instance_of_claims)\n",
    "\n",
    "                    if is_human:\n",
    "                        label = entity_info.get('labels', {}).get('en', {}).get('value', 'N/A')\n",
    "                        description = entity_info.get('descriptions', {}).get('en', {}).get('value', 'N/A')\n",
    "\n",
    "                        # Speichern der Informationen im Dictionary\n",
    "                        human_info_dict[label] = {\n",
    "                            'description': description,\n",
    "                            'qid': chosen_qid\n",
    "                        }\n",
    "                    else:\n",
    "                        print(f\"Der Wikidata-Eintrag {chosen_qid} repräsentiert keine Person (Mensch).\")\n",
    "                else:\n",
    "                    print(f\"Der Wikidata-Eintrag {chosen_qid} wurde nicht gefunden oder enthält keine Daten.\")\n",
    "\n",
    "            else:\n",
    "                print(f\"Keine Ergebnisse gefunden für den Suchbegriff '{search_term}'.\")\n",
    "\n",
    "    except requests.exceptions.RequestException as e:\n",
    "        print(f\"Fehler bei der HTTP-Anfrage für {search_term}: {e}\")\n",
    "    except KeyError as e:\n",
    "        print(f\"Unerwarteter JSON-Formatfehler für {search_term}: {e}\")\n",
    "    except Exception as e:\n",
    "        print(f\"Allgemeiner Fehler für {search_term}: {e}\")\n",
    "\n",
    "# Ausgabe des Dictionarys mit Informationen zu Menschen\n",
    "print(\"Dictionary mit Informationen zu Menschen:\")\n",
    "for name, info in human_info_dict.items():\n",
    "    print(f\"Name: {name}, Beschreibung: {info['description']}, QID: {info['qid']}\")"
   ]
  },
  {
   "cell_type": "code",
   "execution_count": 9,
   "metadata": {},
   "outputs": [
    {
     "name": "stdout",
     "output_type": "stream",
     "text": [
      "{'Konrad Förstner': {'description': 'bioinformatician', 'qid': 'Q18744528'}, 'Anke Becker': {'description': 'German university teacher', 'qid': 'Q21253882'}, 'Peer Bork': {'description': 'German biologist and bioinformatician', 'qid': 'Q7160367'}, 'Thomas Clavel': {'description': 'researcher', 'qid': 'Q40442760'}, 'Alexander Goesmann': {'description': 'researcher', 'qid': 'Q52422599'}}\n"
     ]
    }
   ],
   "source": [
    "print(human_info_dict)"
   ]
  },
  {
   "cell_type": "code",
   "execution_count": null,
   "metadata": {},
   "outputs": [],
   "source": []
  }
 ],
 "metadata": {
  "kernelspec": {
   "display_name": "Python 3",
   "language": "python",
   "name": "python3"
  },
  "language_info": {
   "codemirror_mode": {
    "name": "ipython",
    "version": 3
   },
   "file_extension": ".py",
   "mimetype": "text/x-python",
   "name": "python",
   "nbconvert_exporter": "python",
   "pygments_lexer": "ipython3",
   "version": "3.8.5"
  }
 },
 "nbformat": 4,
 "nbformat_minor": 4
}
